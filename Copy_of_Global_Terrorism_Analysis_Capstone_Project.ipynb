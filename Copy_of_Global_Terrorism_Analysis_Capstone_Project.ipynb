{
  "nbformat": 4,
  "nbformat_minor": 0,
  "metadata": {
    "colab": {
      "name": "Copy of Global Terrorism Analysis - Capstone Project.ipynb",
      "provenance": [],
      "collapsed_sections": [],
      "authorship_tag": "ABX9TyMpD4UjbgUe2+ZYxfWm+Ta0",
      "include_colab_link": true
    },
    "kernelspec": {
      "name": "python3",
      "display_name": "Python 3"
    },
    "language_info": {
      "name": "python"
    }
  },
  "cells": [
    {
      "cell_type": "markdown",
      "metadata": {
        "id": "view-in-github",
        "colab_type": "text"
      },
      "source": [
        "<a href=\"https://colab.research.google.com/github/Shourya306/EDA-Analaysis/blob/main/Copy_of_Global_Terrorism_Analysis_Capstone_Project.ipynb\" target=\"_parent\"><img src=\"https://colab.research.google.com/assets/colab-badge.svg\" alt=\"Open In Colab\"/></a>"
      ]
    },
    {
      "cell_type": "markdown",
      "source": [
        "## <b> The Global Terrorism Database (GTD) is an open-source database including information on terrorist attacks around the world from 1970 through 2017. The GTD includes systematic data on domestic as well as international terrorist incidents that have occurred during this time period and now includes more than 180,000 attacks. The database is maintained by researchers at the National Consortium for the Study of Terrorism and Responses to Terrorism (START), headquartered at the University of Maryland.</b>\n",
        "\n",
        "# <b> Explore and analyze the data to discover key findings pertaining to terrorist activities. </b>"
      ],
      "metadata": {
        "id": "GRk_D6Lk6PIa"
      }
    },
    {
      "cell_type": "code",
      "source": [
        "# Importing all the relevent libraries\n",
        "\n",
        "import numpy as np\n",
        "import pandas as pd\n",
        "import matplotlib.pyplot as plt\n",
        "%matplotlib inline\n",
        "import seaborn as sns\n",
        "from datetime import datetime\n",
        "from datetime import date\n"
      ],
      "metadata": {
        "id": "SX5P38Zz6TCh"
      },
      "execution_count": 102,
      "outputs": []
    },
    {
      "cell_type": "code",
      "source": [
        "pd.set_option('display.max_columns', None)     # This code is used to make pandas display all the columns in the dateset."
      ],
      "metadata": {
        "id": "umTR4R6U6V9_"
      },
      "execution_count": 103,
      "outputs": []
    },
    {
      "cell_type": "code",
      "source": [
        "from google.colab import drive\n",
        "drive.mount('/content/drive')"
      ],
      "metadata": {
        "colab": {
          "base_uri": "https://localhost:8080/"
        },
        "id": "Irfdmu2D6Yv1",
        "outputId": "3a7c67be-b5d3-4d57-d736-47108fe8ddea"
      },
      "execution_count": 104,
      "outputs": [
        {
          "output_type": "stream",
          "name": "stdout",
          "text": [
            "Drive already mounted at /content/drive; to attempt to forcibly remount, call drive.mount(\"/content/drive\", force_remount=True).\n"
          ]
        }
      ]
    },
    {
      "cell_type": "code",
      "source": [
        "file_path = '/content/drive/MyDrive/Colab Notebooks/Module 1/M1 - Capstone project/Copy of Global Terrorism Data.csv'\n",
        "# Encoded with \"latin-1\" because the default encoding wasn't able to encode the this large file \n",
        "full_df = pd.read_csv(file_path, encoding = 'latin-1', low_memory = False)  "
      ],
      "metadata": {
        "id": "HqiVExsi6a4K"
      },
      "execution_count": 105,
      "outputs": []
    },
    {
      "cell_type": "markdown",
      "source": [
        "I have divided the **EDA** into 2 parts:\n",
        "  \n",
        "  * Part 1 = **Data Cleaning**\n",
        "  * Part 2 = **Data Analysis**\n",
        "\n",
        "So let's begin with **Data Cleaning**"
      ],
      "metadata": {
        "id": "-3nsM0GF7GpB"
      }
    },
    {
      "cell_type": "code",
      "source": [
        "full_df.head()"
      ],
      "metadata": {
        "colab": {
          "base_uri": "https://localhost:8080/",
          "height": 409
        },
        "id": "jc4k_4666h3c",
        "outputId": "6d346baf-2370-421f-91c6-3a29cf7c2c0e"
      },
      "execution_count": 106,
      "outputs": [
        {
          "output_type": "execute_result",
          "data": {
            "text/plain": [
              "        eventid  iyear  imonth  iday approxdate  extended resolution  country  \\\n",
              "0  197000000001   1970       7     2        NaN         0        NaN       58   \n",
              "1  197000000002   1970       0     0        NaN         0        NaN      130   \n",
              "2  197001000001   1970       1     0        NaN         0        NaN      160   \n",
              "3  197001000002   1970       1     0        NaN         0        NaN       78   \n",
              "4  197001000003   1970       1     0        NaN         0        NaN      101   \n",
              "\n",
              "          country_txt  region                   region_txt provstate  \\\n",
              "0  Dominican Republic       2  Central America & Caribbean       NaN   \n",
              "1              Mexico       1                North America   Federal   \n",
              "2         Philippines       5               Southeast Asia    Tarlac   \n",
              "3              Greece       8               Western Europe    Attica   \n",
              "4               Japan       4                    East Asia   Fukouka   \n",
              "\n",
              "            city   latitude   longitude  specificity  vicinity location  \\\n",
              "0  Santo Domingo  18.456792  -69.951164          1.0         0      NaN   \n",
              "1    Mexico city  19.371887  -99.086624          1.0         0      NaN   \n",
              "2        Unknown  15.478598  120.599741          4.0         0      NaN   \n",
              "3         Athens  37.997490   23.762728          1.0         0      NaN   \n",
              "4        Fukouka  33.580412  130.396361          1.0         0      NaN   \n",
              "\n",
              "  summary  crit1  crit2  crit3  doubtterr  alternative alternative_txt  \\\n",
              "0     NaN      1      1      1        0.0          NaN             NaN   \n",
              "1     NaN      1      1      1        0.0          NaN             NaN   \n",
              "2     NaN      1      1      1        0.0          NaN             NaN   \n",
              "3     NaN      1      1      1        0.0          NaN             NaN   \n",
              "4     NaN      1      1      1       -9.0          NaN             NaN   \n",
              "\n",
              "   multiple  success  suicide  attacktype1                 attacktype1_txt  \\\n",
              "0       0.0        1        0            1                   Assassination   \n",
              "1       0.0        1        0            6     Hostage Taking (Kidnapping)   \n",
              "2       0.0        1        0            1                   Assassination   \n",
              "3       0.0        1        0            3               Bombing/Explosion   \n",
              "4       0.0        1        0            7  Facility/Infrastructure Attack   \n",
              "\n",
              "   attacktype2 attacktype2_txt  attacktype3 attacktype3_txt  targtype1  \\\n",
              "0          NaN             NaN          NaN             NaN         14   \n",
              "1          NaN             NaN          NaN             NaN          7   \n",
              "2          NaN             NaN          NaN             NaN         10   \n",
              "3          NaN             NaN          NaN             NaN          7   \n",
              "4          NaN             NaN          NaN             NaN          7   \n",
              "\n",
              "                 targtype1_txt  targsubtype1  \\\n",
              "0  Private Citizens & Property          68.0   \n",
              "1      Government (Diplomatic)          45.0   \n",
              "2          Journalists & Media          54.0   \n",
              "3      Government (Diplomatic)          46.0   \n",
              "4      Government (Diplomatic)          46.0   \n",
              "\n",
              "                                    targsubtype1_txt  \\\n",
              "0                                     Named Civilian   \n",
              "1  Diplomatic Personnel (outside of embassy, cons...   \n",
              "2                    Radio Journalist/Staff/Facility   \n",
              "3                                  Embassy/Consulate   \n",
              "4                                  Embassy/Consulate   \n",
              "\n",
              "                         corp1                  target1  natlty1  \\\n",
              "0                          NaN             Julio Guzman     58.0   \n",
              "1  Belgian Ambassador Daughter  Nadine Chaval, daughter     21.0   \n",
              "2             Voice of America                 Employee    217.0   \n",
              "3                          NaN             U.S. Embassy    217.0   \n",
              "4                          NaN           U.S. Consulate    217.0   \n",
              "\n",
              "          natlty1_txt  targtype2 targtype2_txt  targsubtype2 targsubtype2_txt  \\\n",
              "0  Dominican Republic        NaN           NaN           NaN              NaN   \n",
              "1             Belgium        NaN           NaN           NaN              NaN   \n",
              "2       United States        NaN           NaN           NaN              NaN   \n",
              "3       United States        NaN           NaN           NaN              NaN   \n",
              "4       United States        NaN           NaN           NaN              NaN   \n",
              "\n",
              "  corp2 target2  natlty2 natlty2_txt  targtype3 targtype3_txt  targsubtype3  \\\n",
              "0   NaN     NaN      NaN         NaN        NaN           NaN           NaN   \n",
              "1   NaN     NaN      NaN         NaN        NaN           NaN           NaN   \n",
              "2   NaN     NaN      NaN         NaN        NaN           NaN           NaN   \n",
              "3   NaN     NaN      NaN         NaN        NaN           NaN           NaN   \n",
              "4   NaN     NaN      NaN         NaN        NaN           NaN           NaN   \n",
              "\n",
              "  targsubtype3_txt corp3 target3  natlty3 natlty3_txt  \\\n",
              "0              NaN   NaN     NaN      NaN         NaN   \n",
              "1              NaN   NaN     NaN      NaN         NaN   \n",
              "2              NaN   NaN     NaN      NaN         NaN   \n",
              "3              NaN   NaN     NaN      NaN         NaN   \n",
              "4              NaN   NaN     NaN      NaN         NaN   \n",
              "\n",
              "                                gname gsubname gname2 gsubname2 gname3  \\\n",
              "0                              MANO-D      NaN    NaN       NaN    NaN   \n",
              "1  23rd of September Communist League      NaN    NaN       NaN    NaN   \n",
              "2                             Unknown      NaN    NaN       NaN    NaN   \n",
              "3                             Unknown      NaN    NaN       NaN    NaN   \n",
              "4                             Unknown      NaN    NaN       NaN    NaN   \n",
              "\n",
              "  gsubname3 motive  guncertain1  guncertain2  guncertain3  individual  nperps  \\\n",
              "0       NaN    NaN          0.0          NaN          NaN           0     NaN   \n",
              "1       NaN    NaN          0.0          NaN          NaN           0     7.0   \n",
              "2       NaN    NaN          0.0          NaN          NaN           0     NaN   \n",
              "3       NaN    NaN          0.0          NaN          NaN           0     NaN   \n",
              "4       NaN    NaN          0.0          NaN          NaN           0     NaN   \n",
              "\n",
              "   nperpcap  claimed  claimmode claimmode_txt  claim2  claimmode2  \\\n",
              "0       NaN      NaN        NaN           NaN     NaN         NaN   \n",
              "1       NaN      NaN        NaN           NaN     NaN         NaN   \n",
              "2       NaN      NaN        NaN           NaN     NaN         NaN   \n",
              "3       NaN      NaN        NaN           NaN     NaN         NaN   \n",
              "4       NaN      NaN        NaN           NaN     NaN         NaN   \n",
              "\n",
              "  claimmode2_txt  claim3  claimmode3 claimmode3_txt  compclaim  weaptype1  \\\n",
              "0            NaN     NaN         NaN            NaN        NaN         13   \n",
              "1            NaN     NaN         NaN            NaN        NaN         13   \n",
              "2            NaN     NaN         NaN            NaN        NaN         13   \n",
              "3            NaN     NaN         NaN            NaN        NaN          6   \n",
              "4            NaN     NaN         NaN            NaN        NaN          8   \n",
              "\n",
              "  weaptype1_txt  weapsubtype1        weapsubtype1_txt  weaptype2  \\\n",
              "0       Unknown           NaN                     NaN        NaN   \n",
              "1       Unknown           NaN                     NaN        NaN   \n",
              "2       Unknown           NaN                     NaN        NaN   \n",
              "3    Explosives          16.0  Unknown Explosive Type        NaN   \n",
              "4    Incendiary           NaN                     NaN        NaN   \n",
              "\n",
              "  weaptype2_txt  weapsubtype2 weapsubtype2_txt  weaptype3 weaptype3_txt  \\\n",
              "0           NaN           NaN              NaN        NaN           NaN   \n",
              "1           NaN           NaN              NaN        NaN           NaN   \n",
              "2           NaN           NaN              NaN        NaN           NaN   \n",
              "3           NaN           NaN              NaN        NaN           NaN   \n",
              "4           NaN           NaN              NaN        NaN           NaN   \n",
              "\n",
              "   weapsubtype3 weapsubtype3_txt  weaptype4 weaptype4_txt  weapsubtype4  \\\n",
              "0           NaN              NaN        NaN           NaN           NaN   \n",
              "1           NaN              NaN        NaN           NaN           NaN   \n",
              "2           NaN              NaN        NaN           NaN           NaN   \n",
              "3           NaN              NaN        NaN           NaN           NaN   \n",
              "4           NaN              NaN        NaN           NaN           NaN   \n",
              "\n",
              "  weapsubtype4_txt  weapdetail  nkill  nkillus  nkillter  nwound  nwoundus  \\\n",
              "0              NaN         NaN    1.0      NaN       NaN     0.0       NaN   \n",
              "1              NaN         NaN    0.0      NaN       NaN     0.0       NaN   \n",
              "2              NaN         NaN    1.0      NaN       NaN     0.0       NaN   \n",
              "3              NaN   Explosive    NaN      NaN       NaN     NaN       NaN   \n",
              "4              NaN  Incendiary    NaN      NaN       NaN     NaN       NaN   \n",
              "\n",
              "   nwoundte  property  propextent propextent_txt  propvalue propcomment  \\\n",
              "0       NaN         0         NaN            NaN        NaN         NaN   \n",
              "1       NaN         0         NaN            NaN        NaN         NaN   \n",
              "2       NaN         0         NaN            NaN        NaN         NaN   \n",
              "3       NaN         1         NaN            NaN        NaN         NaN   \n",
              "4       NaN         1         NaN            NaN        NaN         NaN   \n",
              "\n",
              "   ishostkid  nhostkid  nhostkidus  nhours  ndays divert kidhijcountry  \\\n",
              "0        0.0       NaN         NaN     NaN    NaN    NaN           NaN   \n",
              "1        1.0       1.0         0.0     NaN    NaN    NaN        Mexico   \n",
              "2        0.0       NaN         NaN     NaN    NaN    NaN           NaN   \n",
              "3        0.0       NaN         NaN     NaN    NaN    NaN           NaN   \n",
              "4        0.0       NaN         NaN     NaN    NaN    NaN           NaN   \n",
              "\n",
              "   ransom  ransomamt  ransomamtus  ransompaid  ransompaidus ransomnote  \\\n",
              "0     0.0        NaN          NaN         NaN           NaN        NaN   \n",
              "1     1.0   800000.0          NaN         NaN           NaN        NaN   \n",
              "2     0.0        NaN          NaN         NaN           NaN        NaN   \n",
              "3     0.0        NaN          NaN         NaN           NaN        NaN   \n",
              "4     0.0        NaN          NaN         NaN           NaN        NaN   \n",
              "\n",
              "   hostkidoutcome hostkidoutcome_txt  nreleased addnotes scite1 scite2 scite3  \\\n",
              "0             NaN                NaN        NaN      NaN    NaN    NaN    NaN   \n",
              "1             NaN                NaN        NaN      NaN    NaN    NaN    NaN   \n",
              "2             NaN                NaN        NaN      NaN    NaN    NaN    NaN   \n",
              "3             NaN                NaN        NaN      NaN    NaN    NaN    NaN   \n",
              "4             NaN                NaN        NaN      NaN    NaN    NaN    NaN   \n",
              "\n",
              "  dbsource  INT_LOG  INT_IDEO  INT_MISC  INT_ANY related  \n",
              "0     PGIS        0         0         0        0     NaN  \n",
              "1     PGIS        0         1         1        1     NaN  \n",
              "2     PGIS       -9        -9         1        1     NaN  \n",
              "3     PGIS       -9        -9         1        1     NaN  \n",
              "4     PGIS       -9        -9         1        1     NaN  "
            ],
            "text/html": [
              "\n",
              "  <div id=\"df-19de189a-bc48-4132-b6bf-69028f221d37\">\n",
              "    <div class=\"colab-df-container\">\n",
              "      <div>\n",
              "<style scoped>\n",
              "    .dataframe tbody tr th:only-of-type {\n",
              "        vertical-align: middle;\n",
              "    }\n",
              "\n",
              "    .dataframe tbody tr th {\n",
              "        vertical-align: top;\n",
              "    }\n",
              "\n",
              "    .dataframe thead th {\n",
              "        text-align: right;\n",
              "    }\n",
              "</style>\n",
              "<table border=\"1\" class=\"dataframe\">\n",
              "  <thead>\n",
              "    <tr style=\"text-align: right;\">\n",
              "      <th></th>\n",
              "      <th>eventid</th>\n",
              "      <th>iyear</th>\n",
              "      <th>imonth</th>\n",
              "      <th>iday</th>\n",
              "      <th>approxdate</th>\n",
              "      <th>extended</th>\n",
              "      <th>resolution</th>\n",
              "      <th>country</th>\n",
              "      <th>country_txt</th>\n",
              "      <th>region</th>\n",
              "      <th>region_txt</th>\n",
              "      <th>provstate</th>\n",
              "      <th>city</th>\n",
              "      <th>latitude</th>\n",
              "      <th>longitude</th>\n",
              "      <th>specificity</th>\n",
              "      <th>vicinity</th>\n",
              "      <th>location</th>\n",
              "      <th>summary</th>\n",
              "      <th>crit1</th>\n",
              "      <th>crit2</th>\n",
              "      <th>crit3</th>\n",
              "      <th>doubtterr</th>\n",
              "      <th>alternative</th>\n",
              "      <th>alternative_txt</th>\n",
              "      <th>multiple</th>\n",
              "      <th>success</th>\n",
              "      <th>suicide</th>\n",
              "      <th>attacktype1</th>\n",
              "      <th>attacktype1_txt</th>\n",
              "      <th>attacktype2</th>\n",
              "      <th>attacktype2_txt</th>\n",
              "      <th>attacktype3</th>\n",
              "      <th>attacktype3_txt</th>\n",
              "      <th>targtype1</th>\n",
              "      <th>targtype1_txt</th>\n",
              "      <th>targsubtype1</th>\n",
              "      <th>targsubtype1_txt</th>\n",
              "      <th>corp1</th>\n",
              "      <th>target1</th>\n",
              "      <th>natlty1</th>\n",
              "      <th>natlty1_txt</th>\n",
              "      <th>targtype2</th>\n",
              "      <th>targtype2_txt</th>\n",
              "      <th>targsubtype2</th>\n",
              "      <th>targsubtype2_txt</th>\n",
              "      <th>corp2</th>\n",
              "      <th>target2</th>\n",
              "      <th>natlty2</th>\n",
              "      <th>natlty2_txt</th>\n",
              "      <th>targtype3</th>\n",
              "      <th>targtype3_txt</th>\n",
              "      <th>targsubtype3</th>\n",
              "      <th>targsubtype3_txt</th>\n",
              "      <th>corp3</th>\n",
              "      <th>target3</th>\n",
              "      <th>natlty3</th>\n",
              "      <th>natlty3_txt</th>\n",
              "      <th>gname</th>\n",
              "      <th>gsubname</th>\n",
              "      <th>gname2</th>\n",
              "      <th>gsubname2</th>\n",
              "      <th>gname3</th>\n",
              "      <th>gsubname3</th>\n",
              "      <th>motive</th>\n",
              "      <th>guncertain1</th>\n",
              "      <th>guncertain2</th>\n",
              "      <th>guncertain3</th>\n",
              "      <th>individual</th>\n",
              "      <th>nperps</th>\n",
              "      <th>nperpcap</th>\n",
              "      <th>claimed</th>\n",
              "      <th>claimmode</th>\n",
              "      <th>claimmode_txt</th>\n",
              "      <th>claim2</th>\n",
              "      <th>claimmode2</th>\n",
              "      <th>claimmode2_txt</th>\n",
              "      <th>claim3</th>\n",
              "      <th>claimmode3</th>\n",
              "      <th>claimmode3_txt</th>\n",
              "      <th>compclaim</th>\n",
              "      <th>weaptype1</th>\n",
              "      <th>weaptype1_txt</th>\n",
              "      <th>weapsubtype1</th>\n",
              "      <th>weapsubtype1_txt</th>\n",
              "      <th>weaptype2</th>\n",
              "      <th>weaptype2_txt</th>\n",
              "      <th>weapsubtype2</th>\n",
              "      <th>weapsubtype2_txt</th>\n",
              "      <th>weaptype3</th>\n",
              "      <th>weaptype3_txt</th>\n",
              "      <th>weapsubtype3</th>\n",
              "      <th>weapsubtype3_txt</th>\n",
              "      <th>weaptype4</th>\n",
              "      <th>weaptype4_txt</th>\n",
              "      <th>weapsubtype4</th>\n",
              "      <th>weapsubtype4_txt</th>\n",
              "      <th>weapdetail</th>\n",
              "      <th>nkill</th>\n",
              "      <th>nkillus</th>\n",
              "      <th>nkillter</th>\n",
              "      <th>nwound</th>\n",
              "      <th>nwoundus</th>\n",
              "      <th>nwoundte</th>\n",
              "      <th>property</th>\n",
              "      <th>propextent</th>\n",
              "      <th>propextent_txt</th>\n",
              "      <th>propvalue</th>\n",
              "      <th>propcomment</th>\n",
              "      <th>ishostkid</th>\n",
              "      <th>nhostkid</th>\n",
              "      <th>nhostkidus</th>\n",
              "      <th>nhours</th>\n",
              "      <th>ndays</th>\n",
              "      <th>divert</th>\n",
              "      <th>kidhijcountry</th>\n",
              "      <th>ransom</th>\n",
              "      <th>ransomamt</th>\n",
              "      <th>ransomamtus</th>\n",
              "      <th>ransompaid</th>\n",
              "      <th>ransompaidus</th>\n",
              "      <th>ransomnote</th>\n",
              "      <th>hostkidoutcome</th>\n",
              "      <th>hostkidoutcome_txt</th>\n",
              "      <th>nreleased</th>\n",
              "      <th>addnotes</th>\n",
              "      <th>scite1</th>\n",
              "      <th>scite2</th>\n",
              "      <th>scite3</th>\n",
              "      <th>dbsource</th>\n",
              "      <th>INT_LOG</th>\n",
              "      <th>INT_IDEO</th>\n",
              "      <th>INT_MISC</th>\n",
              "      <th>INT_ANY</th>\n",
              "      <th>related</th>\n",
              "    </tr>\n",
              "  </thead>\n",
              "  <tbody>\n",
              "    <tr>\n",
              "      <th>0</th>\n",
              "      <td>197000000001</td>\n",
              "      <td>1970</td>\n",
              "      <td>7</td>\n",
              "      <td>2</td>\n",
              "      <td>NaN</td>\n",
              "      <td>0</td>\n",
              "      <td>NaN</td>\n",
              "      <td>58</td>\n",
              "      <td>Dominican Republic</td>\n",
              "      <td>2</td>\n",
              "      <td>Central America &amp; Caribbean</td>\n",
              "      <td>NaN</td>\n",
              "      <td>Santo Domingo</td>\n",
              "      <td>18.456792</td>\n",
              "      <td>-69.951164</td>\n",
              "      <td>1.0</td>\n",
              "      <td>0</td>\n",
              "      <td>NaN</td>\n",
              "      <td>NaN</td>\n",
              "      <td>1</td>\n",
              "      <td>1</td>\n",
              "      <td>1</td>\n",
              "      <td>0.0</td>\n",
              "      <td>NaN</td>\n",
              "      <td>NaN</td>\n",
              "      <td>0.0</td>\n",
              "      <td>1</td>\n",
              "      <td>0</td>\n",
              "      <td>1</td>\n",
              "      <td>Assassination</td>\n",
              "      <td>NaN</td>\n",
              "      <td>NaN</td>\n",
              "      <td>NaN</td>\n",
              "      <td>NaN</td>\n",
              "      <td>14</td>\n",
              "      <td>Private Citizens &amp; Property</td>\n",
              "      <td>68.0</td>\n",
              "      <td>Named Civilian</td>\n",
              "      <td>NaN</td>\n",
              "      <td>Julio Guzman</td>\n",
              "      <td>58.0</td>\n",
              "      <td>Dominican Republic</td>\n",
              "      <td>NaN</td>\n",
              "      <td>NaN</td>\n",
              "      <td>NaN</td>\n",
              "      <td>NaN</td>\n",
              "      <td>NaN</td>\n",
              "      <td>NaN</td>\n",
              "      <td>NaN</td>\n",
              "      <td>NaN</td>\n",
              "      <td>NaN</td>\n",
              "      <td>NaN</td>\n",
              "      <td>NaN</td>\n",
              "      <td>NaN</td>\n",
              "      <td>NaN</td>\n",
              "      <td>NaN</td>\n",
              "      <td>NaN</td>\n",
              "      <td>NaN</td>\n",
              "      <td>MANO-D</td>\n",
              "      <td>NaN</td>\n",
              "      <td>NaN</td>\n",
              "      <td>NaN</td>\n",
              "      <td>NaN</td>\n",
              "      <td>NaN</td>\n",
              "      <td>NaN</td>\n",
              "      <td>0.0</td>\n",
              "      <td>NaN</td>\n",
              "      <td>NaN</td>\n",
              "      <td>0</td>\n",
              "      <td>NaN</td>\n",
              "      <td>NaN</td>\n",
              "      <td>NaN</td>\n",
              "      <td>NaN</td>\n",
              "      <td>NaN</td>\n",
              "      <td>NaN</td>\n",
              "      <td>NaN</td>\n",
              "      <td>NaN</td>\n",
              "      <td>NaN</td>\n",
              "      <td>NaN</td>\n",
              "      <td>NaN</td>\n",
              "      <td>NaN</td>\n",
              "      <td>13</td>\n",
              "      <td>Unknown</td>\n",
              "      <td>NaN</td>\n",
              "      <td>NaN</td>\n",
              "      <td>NaN</td>\n",
              "      <td>NaN</td>\n",
              "      <td>NaN</td>\n",
              "      <td>NaN</td>\n",
              "      <td>NaN</td>\n",
              "      <td>NaN</td>\n",
              "      <td>NaN</td>\n",
              "      <td>NaN</td>\n",
              "      <td>NaN</td>\n",
              "      <td>NaN</td>\n",
              "      <td>NaN</td>\n",
              "      <td>NaN</td>\n",
              "      <td>NaN</td>\n",
              "      <td>1.0</td>\n",
              "      <td>NaN</td>\n",
              "      <td>NaN</td>\n",
              "      <td>0.0</td>\n",
              "      <td>NaN</td>\n",
              "      <td>NaN</td>\n",
              "      <td>0</td>\n",
              "      <td>NaN</td>\n",
              "      <td>NaN</td>\n",
              "      <td>NaN</td>\n",
              "      <td>NaN</td>\n",
              "      <td>0.0</td>\n",
              "      <td>NaN</td>\n",
              "      <td>NaN</td>\n",
              "      <td>NaN</td>\n",
              "      <td>NaN</td>\n",
              "      <td>NaN</td>\n",
              "      <td>NaN</td>\n",
              "      <td>0.0</td>\n",
              "      <td>NaN</td>\n",
              "      <td>NaN</td>\n",
              "      <td>NaN</td>\n",
              "      <td>NaN</td>\n",
              "      <td>NaN</td>\n",
              "      <td>NaN</td>\n",
              "      <td>NaN</td>\n",
              "      <td>NaN</td>\n",
              "      <td>NaN</td>\n",
              "      <td>NaN</td>\n",
              "      <td>NaN</td>\n",
              "      <td>NaN</td>\n",
              "      <td>PGIS</td>\n",
              "      <td>0</td>\n",
              "      <td>0</td>\n",
              "      <td>0</td>\n",
              "      <td>0</td>\n",
              "      <td>NaN</td>\n",
              "    </tr>\n",
              "    <tr>\n",
              "      <th>1</th>\n",
              "      <td>197000000002</td>\n",
              "      <td>1970</td>\n",
              "      <td>0</td>\n",
              "      <td>0</td>\n",
              "      <td>NaN</td>\n",
              "      <td>0</td>\n",
              "      <td>NaN</td>\n",
              "      <td>130</td>\n",
              "      <td>Mexico</td>\n",
              "      <td>1</td>\n",
              "      <td>North America</td>\n",
              "      <td>Federal</td>\n",
              "      <td>Mexico city</td>\n",
              "      <td>19.371887</td>\n",
              "      <td>-99.086624</td>\n",
              "      <td>1.0</td>\n",
              "      <td>0</td>\n",
              "      <td>NaN</td>\n",
              "      <td>NaN</td>\n",
              "      <td>1</td>\n",
              "      <td>1</td>\n",
              "      <td>1</td>\n",
              "      <td>0.0</td>\n",
              "      <td>NaN</td>\n",
              "      <td>NaN</td>\n",
              "      <td>0.0</td>\n",
              "      <td>1</td>\n",
              "      <td>0</td>\n",
              "      <td>6</td>\n",
              "      <td>Hostage Taking (Kidnapping)</td>\n",
              "      <td>NaN</td>\n",
              "      <td>NaN</td>\n",
              "      <td>NaN</td>\n",
              "      <td>NaN</td>\n",
              "      <td>7</td>\n",
              "      <td>Government (Diplomatic)</td>\n",
              "      <td>45.0</td>\n",
              "      <td>Diplomatic Personnel (outside of embassy, cons...</td>\n",
              "      <td>Belgian Ambassador Daughter</td>\n",
              "      <td>Nadine Chaval, daughter</td>\n",
              "      <td>21.0</td>\n",
              "      <td>Belgium</td>\n",
              "      <td>NaN</td>\n",
              "      <td>NaN</td>\n",
              "      <td>NaN</td>\n",
              "      <td>NaN</td>\n",
              "      <td>NaN</td>\n",
              "      <td>NaN</td>\n",
              "      <td>NaN</td>\n",
              "      <td>NaN</td>\n",
              "      <td>NaN</td>\n",
              "      <td>NaN</td>\n",
              "      <td>NaN</td>\n",
              "      <td>NaN</td>\n",
              "      <td>NaN</td>\n",
              "      <td>NaN</td>\n",
              "      <td>NaN</td>\n",
              "      <td>NaN</td>\n",
              "      <td>23rd of September Communist League</td>\n",
              "      <td>NaN</td>\n",
              "      <td>NaN</td>\n",
              "      <td>NaN</td>\n",
              "      <td>NaN</td>\n",
              "      <td>NaN</td>\n",
              "      <td>NaN</td>\n",
              "      <td>0.0</td>\n",
              "      <td>NaN</td>\n",
              "      <td>NaN</td>\n",
              "      <td>0</td>\n",
              "      <td>7.0</td>\n",
              "      <td>NaN</td>\n",
              "      <td>NaN</td>\n",
              "      <td>NaN</td>\n",
              "      <td>NaN</td>\n",
              "      <td>NaN</td>\n",
              "      <td>NaN</td>\n",
              "      <td>NaN</td>\n",
              "      <td>NaN</td>\n",
              "      <td>NaN</td>\n",
              "      <td>NaN</td>\n",
              "      <td>NaN</td>\n",
              "      <td>13</td>\n",
              "      <td>Unknown</td>\n",
              "      <td>NaN</td>\n",
              "      <td>NaN</td>\n",
              "      <td>NaN</td>\n",
              "      <td>NaN</td>\n",
              "      <td>NaN</td>\n",
              "      <td>NaN</td>\n",
              "      <td>NaN</td>\n",
              "      <td>NaN</td>\n",
              "      <td>NaN</td>\n",
              "      <td>NaN</td>\n",
              "      <td>NaN</td>\n",
              "      <td>NaN</td>\n",
              "      <td>NaN</td>\n",
              "      <td>NaN</td>\n",
              "      <td>NaN</td>\n",
              "      <td>0.0</td>\n",
              "      <td>NaN</td>\n",
              "      <td>NaN</td>\n",
              "      <td>0.0</td>\n",
              "      <td>NaN</td>\n",
              "      <td>NaN</td>\n",
              "      <td>0</td>\n",
              "      <td>NaN</td>\n",
              "      <td>NaN</td>\n",
              "      <td>NaN</td>\n",
              "      <td>NaN</td>\n",
              "      <td>1.0</td>\n",
              "      <td>1.0</td>\n",
              "      <td>0.0</td>\n",
              "      <td>NaN</td>\n",
              "      <td>NaN</td>\n",
              "      <td>NaN</td>\n",
              "      <td>Mexico</td>\n",
              "      <td>1.0</td>\n",
              "      <td>800000.0</td>\n",
              "      <td>NaN</td>\n",
              "      <td>NaN</td>\n",
              "      <td>NaN</td>\n",
              "      <td>NaN</td>\n",
              "      <td>NaN</td>\n",
              "      <td>NaN</td>\n",
              "      <td>NaN</td>\n",
              "      <td>NaN</td>\n",
              "      <td>NaN</td>\n",
              "      <td>NaN</td>\n",
              "      <td>NaN</td>\n",
              "      <td>PGIS</td>\n",
              "      <td>0</td>\n",
              "      <td>1</td>\n",
              "      <td>1</td>\n",
              "      <td>1</td>\n",
              "      <td>NaN</td>\n",
              "    </tr>\n",
              "    <tr>\n",
              "      <th>2</th>\n",
              "      <td>197001000001</td>\n",
              "      <td>1970</td>\n",
              "      <td>1</td>\n",
              "      <td>0</td>\n",
              "      <td>NaN</td>\n",
              "      <td>0</td>\n",
              "      <td>NaN</td>\n",
              "      <td>160</td>\n",
              "      <td>Philippines</td>\n",
              "      <td>5</td>\n",
              "      <td>Southeast Asia</td>\n",
              "      <td>Tarlac</td>\n",
              "      <td>Unknown</td>\n",
              "      <td>15.478598</td>\n",
              "      <td>120.599741</td>\n",
              "      <td>4.0</td>\n",
              "      <td>0</td>\n",
              "      <td>NaN</td>\n",
              "      <td>NaN</td>\n",
              "      <td>1</td>\n",
              "      <td>1</td>\n",
              "      <td>1</td>\n",
              "      <td>0.0</td>\n",
              "      <td>NaN</td>\n",
              "      <td>NaN</td>\n",
              "      <td>0.0</td>\n",
              "      <td>1</td>\n",
              "      <td>0</td>\n",
              "      <td>1</td>\n",
              "      <td>Assassination</td>\n",
              "      <td>NaN</td>\n",
              "      <td>NaN</td>\n",
              "      <td>NaN</td>\n",
              "      <td>NaN</td>\n",
              "      <td>10</td>\n",
              "      <td>Journalists &amp; Media</td>\n",
              "      <td>54.0</td>\n",
              "      <td>Radio Journalist/Staff/Facility</td>\n",
              "      <td>Voice of America</td>\n",
              "      <td>Employee</td>\n",
              "      <td>217.0</td>\n",
              "      <td>United States</td>\n",
              "      <td>NaN</td>\n",
              "      <td>NaN</td>\n",
              "      <td>NaN</td>\n",
              "      <td>NaN</td>\n",
              "      <td>NaN</td>\n",
              "      <td>NaN</td>\n",
              "      <td>NaN</td>\n",
              "      <td>NaN</td>\n",
              "      <td>NaN</td>\n",
              "      <td>NaN</td>\n",
              "      <td>NaN</td>\n",
              "      <td>NaN</td>\n",
              "      <td>NaN</td>\n",
              "      <td>NaN</td>\n",
              "      <td>NaN</td>\n",
              "      <td>NaN</td>\n",
              "      <td>Unknown</td>\n",
              "      <td>NaN</td>\n",
              "      <td>NaN</td>\n",
              "      <td>NaN</td>\n",
              "      <td>NaN</td>\n",
              "      <td>NaN</td>\n",
              "      <td>NaN</td>\n",
              "      <td>0.0</td>\n",
              "      <td>NaN</td>\n",
              "      <td>NaN</td>\n",
              "      <td>0</td>\n",
              "      <td>NaN</td>\n",
              "      <td>NaN</td>\n",
              "      <td>NaN</td>\n",
              "      <td>NaN</td>\n",
              "      <td>NaN</td>\n",
              "      <td>NaN</td>\n",
              "      <td>NaN</td>\n",
              "      <td>NaN</td>\n",
              "      <td>NaN</td>\n",
              "      <td>NaN</td>\n",
              "      <td>NaN</td>\n",
              "      <td>NaN</td>\n",
              "      <td>13</td>\n",
              "      <td>Unknown</td>\n",
              "      <td>NaN</td>\n",
              "      <td>NaN</td>\n",
              "      <td>NaN</td>\n",
              "      <td>NaN</td>\n",
              "      <td>NaN</td>\n",
              "      <td>NaN</td>\n",
              "      <td>NaN</td>\n",
              "      <td>NaN</td>\n",
              "      <td>NaN</td>\n",
              "      <td>NaN</td>\n",
              "      <td>NaN</td>\n",
              "      <td>NaN</td>\n",
              "      <td>NaN</td>\n",
              "      <td>NaN</td>\n",
              "      <td>NaN</td>\n",
              "      <td>1.0</td>\n",
              "      <td>NaN</td>\n",
              "      <td>NaN</td>\n",
              "      <td>0.0</td>\n",
              "      <td>NaN</td>\n",
              "      <td>NaN</td>\n",
              "      <td>0</td>\n",
              "      <td>NaN</td>\n",
              "      <td>NaN</td>\n",
              "      <td>NaN</td>\n",
              "      <td>NaN</td>\n",
              "      <td>0.0</td>\n",
              "      <td>NaN</td>\n",
              "      <td>NaN</td>\n",
              "      <td>NaN</td>\n",
              "      <td>NaN</td>\n",
              "      <td>NaN</td>\n",
              "      <td>NaN</td>\n",
              "      <td>0.0</td>\n",
              "      <td>NaN</td>\n",
              "      <td>NaN</td>\n",
              "      <td>NaN</td>\n",
              "      <td>NaN</td>\n",
              "      <td>NaN</td>\n",
              "      <td>NaN</td>\n",
              "      <td>NaN</td>\n",
              "      <td>NaN</td>\n",
              "      <td>NaN</td>\n",
              "      <td>NaN</td>\n",
              "      <td>NaN</td>\n",
              "      <td>NaN</td>\n",
              "      <td>PGIS</td>\n",
              "      <td>-9</td>\n",
              "      <td>-9</td>\n",
              "      <td>1</td>\n",
              "      <td>1</td>\n",
              "      <td>NaN</td>\n",
              "    </tr>\n",
              "    <tr>\n",
              "      <th>3</th>\n",
              "      <td>197001000002</td>\n",
              "      <td>1970</td>\n",
              "      <td>1</td>\n",
              "      <td>0</td>\n",
              "      <td>NaN</td>\n",
              "      <td>0</td>\n",
              "      <td>NaN</td>\n",
              "      <td>78</td>\n",
              "      <td>Greece</td>\n",
              "      <td>8</td>\n",
              "      <td>Western Europe</td>\n",
              "      <td>Attica</td>\n",
              "      <td>Athens</td>\n",
              "      <td>37.997490</td>\n",
              "      <td>23.762728</td>\n",
              "      <td>1.0</td>\n",
              "      <td>0</td>\n",
              "      <td>NaN</td>\n",
              "      <td>NaN</td>\n",
              "      <td>1</td>\n",
              "      <td>1</td>\n",
              "      <td>1</td>\n",
              "      <td>0.0</td>\n",
              "      <td>NaN</td>\n",
              "      <td>NaN</td>\n",
              "      <td>0.0</td>\n",
              "      <td>1</td>\n",
              "      <td>0</td>\n",
              "      <td>3</td>\n",
              "      <td>Bombing/Explosion</td>\n",
              "      <td>NaN</td>\n",
              "      <td>NaN</td>\n",
              "      <td>NaN</td>\n",
              "      <td>NaN</td>\n",
              "      <td>7</td>\n",
              "      <td>Government (Diplomatic)</td>\n",
              "      <td>46.0</td>\n",
              "      <td>Embassy/Consulate</td>\n",
              "      <td>NaN</td>\n",
              "      <td>U.S. Embassy</td>\n",
              "      <td>217.0</td>\n",
              "      <td>United States</td>\n",
              "      <td>NaN</td>\n",
              "      <td>NaN</td>\n",
              "      <td>NaN</td>\n",
              "      <td>NaN</td>\n",
              "      <td>NaN</td>\n",
              "      <td>NaN</td>\n",
              "      <td>NaN</td>\n",
              "      <td>NaN</td>\n",
              "      <td>NaN</td>\n",
              "      <td>NaN</td>\n",
              "      <td>NaN</td>\n",
              "      <td>NaN</td>\n",
              "      <td>NaN</td>\n",
              "      <td>NaN</td>\n",
              "      <td>NaN</td>\n",
              "      <td>NaN</td>\n",
              "      <td>Unknown</td>\n",
              "      <td>NaN</td>\n",
              "      <td>NaN</td>\n",
              "      <td>NaN</td>\n",
              "      <td>NaN</td>\n",
              "      <td>NaN</td>\n",
              "      <td>NaN</td>\n",
              "      <td>0.0</td>\n",
              "      <td>NaN</td>\n",
              "      <td>NaN</td>\n",
              "      <td>0</td>\n",
              "      <td>NaN</td>\n",
              "      <td>NaN</td>\n",
              "      <td>NaN</td>\n",
              "      <td>NaN</td>\n",
              "      <td>NaN</td>\n",
              "      <td>NaN</td>\n",
              "      <td>NaN</td>\n",
              "      <td>NaN</td>\n",
              "      <td>NaN</td>\n",
              "      <td>NaN</td>\n",
              "      <td>NaN</td>\n",
              "      <td>NaN</td>\n",
              "      <td>6</td>\n",
              "      <td>Explosives</td>\n",
              "      <td>16.0</td>\n",
              "      <td>Unknown Explosive Type</td>\n",
              "      <td>NaN</td>\n",
              "      <td>NaN</td>\n",
              "      <td>NaN</td>\n",
              "      <td>NaN</td>\n",
              "      <td>NaN</td>\n",
              "      <td>NaN</td>\n",
              "      <td>NaN</td>\n",
              "      <td>NaN</td>\n",
              "      <td>NaN</td>\n",
              "      <td>NaN</td>\n",
              "      <td>NaN</td>\n",
              "      <td>NaN</td>\n",
              "      <td>Explosive</td>\n",
              "      <td>NaN</td>\n",
              "      <td>NaN</td>\n",
              "      <td>NaN</td>\n",
              "      <td>NaN</td>\n",
              "      <td>NaN</td>\n",
              "      <td>NaN</td>\n",
              "      <td>1</td>\n",
              "      <td>NaN</td>\n",
              "      <td>NaN</td>\n",
              "      <td>NaN</td>\n",
              "      <td>NaN</td>\n",
              "      <td>0.0</td>\n",
              "      <td>NaN</td>\n",
              "      <td>NaN</td>\n",
              "      <td>NaN</td>\n",
              "      <td>NaN</td>\n",
              "      <td>NaN</td>\n",
              "      <td>NaN</td>\n",
              "      <td>0.0</td>\n",
              "      <td>NaN</td>\n",
              "      <td>NaN</td>\n",
              "      <td>NaN</td>\n",
              "      <td>NaN</td>\n",
              "      <td>NaN</td>\n",
              "      <td>NaN</td>\n",
              "      <td>NaN</td>\n",
              "      <td>NaN</td>\n",
              "      <td>NaN</td>\n",
              "      <td>NaN</td>\n",
              "      <td>NaN</td>\n",
              "      <td>NaN</td>\n",
              "      <td>PGIS</td>\n",
              "      <td>-9</td>\n",
              "      <td>-9</td>\n",
              "      <td>1</td>\n",
              "      <td>1</td>\n",
              "      <td>NaN</td>\n",
              "    </tr>\n",
              "    <tr>\n",
              "      <th>4</th>\n",
              "      <td>197001000003</td>\n",
              "      <td>1970</td>\n",
              "      <td>1</td>\n",
              "      <td>0</td>\n",
              "      <td>NaN</td>\n",
              "      <td>0</td>\n",
              "      <td>NaN</td>\n",
              "      <td>101</td>\n",
              "      <td>Japan</td>\n",
              "      <td>4</td>\n",
              "      <td>East Asia</td>\n",
              "      <td>Fukouka</td>\n",
              "      <td>Fukouka</td>\n",
              "      <td>33.580412</td>\n",
              "      <td>130.396361</td>\n",
              "      <td>1.0</td>\n",
              "      <td>0</td>\n",
              "      <td>NaN</td>\n",
              "      <td>NaN</td>\n",
              "      <td>1</td>\n",
              "      <td>1</td>\n",
              "      <td>1</td>\n",
              "      <td>-9.0</td>\n",
              "      <td>NaN</td>\n",
              "      <td>NaN</td>\n",
              "      <td>0.0</td>\n",
              "      <td>1</td>\n",
              "      <td>0</td>\n",
              "      <td>7</td>\n",
              "      <td>Facility/Infrastructure Attack</td>\n",
              "      <td>NaN</td>\n",
              "      <td>NaN</td>\n",
              "      <td>NaN</td>\n",
              "      <td>NaN</td>\n",
              "      <td>7</td>\n",
              "      <td>Government (Diplomatic)</td>\n",
              "      <td>46.0</td>\n",
              "      <td>Embassy/Consulate</td>\n",
              "      <td>NaN</td>\n",
              "      <td>U.S. Consulate</td>\n",
              "      <td>217.0</td>\n",
              "      <td>United States</td>\n",
              "      <td>NaN</td>\n",
              "      <td>NaN</td>\n",
              "      <td>NaN</td>\n",
              "      <td>NaN</td>\n",
              "      <td>NaN</td>\n",
              "      <td>NaN</td>\n",
              "      <td>NaN</td>\n",
              "      <td>NaN</td>\n",
              "      <td>NaN</td>\n",
              "      <td>NaN</td>\n",
              "      <td>NaN</td>\n",
              "      <td>NaN</td>\n",
              "      <td>NaN</td>\n",
              "      <td>NaN</td>\n",
              "      <td>NaN</td>\n",
              "      <td>NaN</td>\n",
              "      <td>Unknown</td>\n",
              "      <td>NaN</td>\n",
              "      <td>NaN</td>\n",
              "      <td>NaN</td>\n",
              "      <td>NaN</td>\n",
              "      <td>NaN</td>\n",
              "      <td>NaN</td>\n",
              "      <td>0.0</td>\n",
              "      <td>NaN</td>\n",
              "      <td>NaN</td>\n",
              "      <td>0</td>\n",
              "      <td>NaN</td>\n",
              "      <td>NaN</td>\n",
              "      <td>NaN</td>\n",
              "      <td>NaN</td>\n",
              "      <td>NaN</td>\n",
              "      <td>NaN</td>\n",
              "      <td>NaN</td>\n",
              "      <td>NaN</td>\n",
              "      <td>NaN</td>\n",
              "      <td>NaN</td>\n",
              "      <td>NaN</td>\n",
              "      <td>NaN</td>\n",
              "      <td>8</td>\n",
              "      <td>Incendiary</td>\n",
              "      <td>NaN</td>\n",
              "      <td>NaN</td>\n",
              "      <td>NaN</td>\n",
              "      <td>NaN</td>\n",
              "      <td>NaN</td>\n",
              "      <td>NaN</td>\n",
              "      <td>NaN</td>\n",
              "      <td>NaN</td>\n",
              "      <td>NaN</td>\n",
              "      <td>NaN</td>\n",
              "      <td>NaN</td>\n",
              "      <td>NaN</td>\n",
              "      <td>NaN</td>\n",
              "      <td>NaN</td>\n",
              "      <td>Incendiary</td>\n",
              "      <td>NaN</td>\n",
              "      <td>NaN</td>\n",
              "      <td>NaN</td>\n",
              "      <td>NaN</td>\n",
              "      <td>NaN</td>\n",
              "      <td>NaN</td>\n",
              "      <td>1</td>\n",
              "      <td>NaN</td>\n",
              "      <td>NaN</td>\n",
              "      <td>NaN</td>\n",
              "      <td>NaN</td>\n",
              "      <td>0.0</td>\n",
              "      <td>NaN</td>\n",
              "      <td>NaN</td>\n",
              "      <td>NaN</td>\n",
              "      <td>NaN</td>\n",
              "      <td>NaN</td>\n",
              "      <td>NaN</td>\n",
              "      <td>0.0</td>\n",
              "      <td>NaN</td>\n",
              "      <td>NaN</td>\n",
              "      <td>NaN</td>\n",
              "      <td>NaN</td>\n",
              "      <td>NaN</td>\n",
              "      <td>NaN</td>\n",
              "      <td>NaN</td>\n",
              "      <td>NaN</td>\n",
              "      <td>NaN</td>\n",
              "      <td>NaN</td>\n",
              "      <td>NaN</td>\n",
              "      <td>NaN</td>\n",
              "      <td>PGIS</td>\n",
              "      <td>-9</td>\n",
              "      <td>-9</td>\n",
              "      <td>1</td>\n",
              "      <td>1</td>\n",
              "      <td>NaN</td>\n",
              "    </tr>\n",
              "  </tbody>\n",
              "</table>\n",
              "</div>\n",
              "      <button class=\"colab-df-convert\" onclick=\"convertToInteractive('df-19de189a-bc48-4132-b6bf-69028f221d37')\"\n",
              "              title=\"Convert this dataframe to an interactive table.\"\n",
              "              style=\"display:none;\">\n",
              "        \n",
              "  <svg xmlns=\"http://www.w3.org/2000/svg\" height=\"24px\"viewBox=\"0 0 24 24\"\n",
              "       width=\"24px\">\n",
              "    <path d=\"M0 0h24v24H0V0z\" fill=\"none\"/>\n",
              "    <path d=\"M18.56 5.44l.94 2.06.94-2.06 2.06-.94-2.06-.94-.94-2.06-.94 2.06-2.06.94zm-11 1L8.5 8.5l.94-2.06 2.06-.94-2.06-.94L8.5 2.5l-.94 2.06-2.06.94zm10 10l.94 2.06.94-2.06 2.06-.94-2.06-.94-.94-2.06-.94 2.06-2.06.94z\"/><path d=\"M17.41 7.96l-1.37-1.37c-.4-.4-.92-.59-1.43-.59-.52 0-1.04.2-1.43.59L10.3 9.45l-7.72 7.72c-.78.78-.78 2.05 0 2.83L4 21.41c.39.39.9.59 1.41.59.51 0 1.02-.2 1.41-.59l7.78-7.78 2.81-2.81c.8-.78.8-2.07 0-2.86zM5.41 20L4 18.59l7.72-7.72 1.47 1.35L5.41 20z\"/>\n",
              "  </svg>\n",
              "      </button>\n",
              "      \n",
              "  <style>\n",
              "    .colab-df-container {\n",
              "      display:flex;\n",
              "      flex-wrap:wrap;\n",
              "      gap: 12px;\n",
              "    }\n",
              "\n",
              "    .colab-df-convert {\n",
              "      background-color: #E8F0FE;\n",
              "      border: none;\n",
              "      border-radius: 50%;\n",
              "      cursor: pointer;\n",
              "      display: none;\n",
              "      fill: #1967D2;\n",
              "      height: 32px;\n",
              "      padding: 0 0 0 0;\n",
              "      width: 32px;\n",
              "    }\n",
              "\n",
              "    .colab-df-convert:hover {\n",
              "      background-color: #E2EBFA;\n",
              "      box-shadow: 0px 1px 2px rgba(60, 64, 67, 0.3), 0px 1px 3px 1px rgba(60, 64, 67, 0.15);\n",
              "      fill: #174EA6;\n",
              "    }\n",
              "\n",
              "    [theme=dark] .colab-df-convert {\n",
              "      background-color: #3B4455;\n",
              "      fill: #D2E3FC;\n",
              "    }\n",
              "\n",
              "    [theme=dark] .colab-df-convert:hover {\n",
              "      background-color: #434B5C;\n",
              "      box-shadow: 0px 1px 3px 1px rgba(0, 0, 0, 0.15);\n",
              "      filter: drop-shadow(0px 1px 2px rgba(0, 0, 0, 0.3));\n",
              "      fill: #FFFFFF;\n",
              "    }\n",
              "  </style>\n",
              "\n",
              "      <script>\n",
              "        const buttonEl =\n",
              "          document.querySelector('#df-19de189a-bc48-4132-b6bf-69028f221d37 button.colab-df-convert');\n",
              "        buttonEl.style.display =\n",
              "          google.colab.kernel.accessAllowed ? 'block' : 'none';\n",
              "\n",
              "        async function convertToInteractive(key) {\n",
              "          const element = document.querySelector('#df-19de189a-bc48-4132-b6bf-69028f221d37');\n",
              "          const dataTable =\n",
              "            await google.colab.kernel.invokeFunction('convertToInteractive',\n",
              "                                                     [key], {});\n",
              "          if (!dataTable) return;\n",
              "\n",
              "          const docLinkHtml = 'Like what you see? Visit the ' +\n",
              "            '<a target=\"_blank\" href=https://colab.research.google.com/notebooks/data_table.ipynb>data table notebook</a>'\n",
              "            + ' to learn more about interactive tables.';\n",
              "          element.innerHTML = '';\n",
              "          dataTable['output_type'] = 'display_data';\n",
              "          await google.colab.output.renderOutput(dataTable, element);\n",
              "          const docLink = document.createElement('div');\n",
              "          docLink.innerHTML = docLinkHtml;\n",
              "          element.appendChild(docLink);\n",
              "        }\n",
              "      </script>\n",
              "    </div>\n",
              "  </div>\n",
              "  "
            ]
          },
          "metadata": {},
          "execution_count": 106
        }
      ]
    },
    {
      "cell_type": "code",
      "source": [
        "full_df.shape"
      ],
      "metadata": {
        "colab": {
          "base_uri": "https://localhost:8080/"
        },
        "id": "l-qDrzTV6led",
        "outputId": "d95727b0-1532-4913-db79-2e7b82ade200"
      },
      "execution_count": 107,
      "outputs": [
        {
          "output_type": "execute_result",
          "data": {
            "text/plain": [
              "(181691, 135)"
            ]
          },
          "metadata": {},
          "execution_count": 107
        }
      ]
    },
    {
      "cell_type": "code",
      "source": [
        "# Finding out the percentage of null values in an example column.\n",
        "null_values_weaptype2_txt = full_df[full_df['weaptype2_txt'].isnull()]\n",
        "Percentage_null_values_weaptype2_txt = (len(null_values_weaptype2_txt['weaptype2_txt']) / len(full_df['weaptype2_txt'])) * 100\n",
        "round(Percentage_null_values_weaptype2_txt,2)"
      ],
      "metadata": {
        "colab": {
          "base_uri": "https://localhost:8080/"
        },
        "id": "W94iEs2q6ngB",
        "outputId": "5439e332-97b9-4ed5-a31a-60a55d39761c"
      },
      "execution_count": 108,
      "outputs": [
        {
          "output_type": "execute_result",
          "data": {
            "text/plain": [
              "92.78"
            ]
          },
          "metadata": {},
          "execution_count": 108
        }
      ]
    },
    {
      "cell_type": "markdown",
      "source": [
        "* There are **135 columns** in the dateset and it dosen't have sense to analyse all the features of the dateset because:\n",
        "\n",
        "    1.Most of the features/columns in the dataset contain the same \n",
        "    information as the other columns (e.g weaptype1_txt & weaptype2_txt).\n",
        "\n",
        "    2.And also these columns(not relevent columns) contain a lot of \n",
        "    null information (e.g weaptype2_txt contains 93% percent null values."
      ],
      "metadata": {
        "id": "N5nG1krv6tmz"
      }
    },
    {
      "cell_type": "markdown",
      "source": [
        "* So I will subset the above dateset with only those columns that meet the \n",
        "satisfy the above 2 conditions"
      ],
      "metadata": {
        "id": "NqjR1Usr6usH"
      }
    },
    {
      "cell_type": "code",
      "source": [
        "# Subsetting the dataset.\n",
        "subset_df = full_df[['iyear','imonth','iday','extended','country_txt','region_txt','city','latitude','longitude','success','suicide','attacktype1_txt',\n",
        "                'targtype1_txt','gname','motive','weaptype1_txt','nkill','nwound']]"
      ],
      "metadata": {
        "id": "J8749_6X6p3t"
      },
      "execution_count": 109,
      "outputs": []
    },
    {
      "cell_type": "code",
      "source": [
        "subset_df.shape"
      ],
      "metadata": {
        "colab": {
          "base_uri": "https://localhost:8080/"
        },
        "id": "GvrxtbUg60Ya",
        "outputId": "3f9a69e8-b709-4665-eaec-cf3ad8be4868"
      },
      "execution_count": 110,
      "outputs": [
        {
          "output_type": "execute_result",
          "data": {
            "text/plain": [
              "(181691, 18)"
            ]
          },
          "metadata": {},
          "execution_count": 110
        }
      ]
    },
    {
      "cell_type": "code",
      "source": [
        "# Making a copy of the subseted dataframe and working only on the copy of the subseted dataframe.\n",
        "df = subset_df.copy()"
      ],
      "metadata": {
        "id": "rP4o7NLI63Cf"
      },
      "execution_count": 111,
      "outputs": []
    },
    {
      "cell_type": "code",
      "source": [
        "# Now it's time to rename the columns to make it more intuitive as to what the columns speak.\n",
        "df.rename(columns = {'iyear':'year','imonth':'month','iday':'day','country_txt':'country','region_txt':'region','attacktype1_txt':'attack_type',\n",
        "                            'targtype1_txt':'target','gname':'organisation','weaptype1_txt':'weapon_type','nkill':'killed','nwound':'wounded'},\n",
        "                 inplace = True)"
      ],
      "metadata": {
        "id": "L0NZSnjd65Pa"
      },
      "execution_count": 112,
      "outputs": []
    },
    {
      "cell_type": "code",
      "source": [
        "df.info()"
      ],
      "metadata": {
        "colab": {
          "base_uri": "https://localhost:8080/"
        },
        "id": "IA2EWJAD67UU",
        "outputId": "420379d9-62ee-4a9b-82fd-5b7907440a6e"
      },
      "execution_count": 113,
      "outputs": [
        {
          "output_type": "stream",
          "name": "stdout",
          "text": [
            "<class 'pandas.core.frame.DataFrame'>\n",
            "RangeIndex: 181691 entries, 0 to 181690\n",
            "Data columns (total 18 columns):\n",
            " #   Column        Non-Null Count   Dtype  \n",
            "---  ------        --------------   -----  \n",
            " 0   year          181691 non-null  int64  \n",
            " 1   month         181691 non-null  int64  \n",
            " 2   day           181691 non-null  int64  \n",
            " 3   extended      181691 non-null  int64  \n",
            " 4   country       181691 non-null  object \n",
            " 5   region        181691 non-null  object \n",
            " 6   city          181257 non-null  object \n",
            " 7   latitude      177135 non-null  float64\n",
            " 8   longitude     177134 non-null  float64\n",
            " 9   success       181691 non-null  int64  \n",
            " 10  suicide       181691 non-null  int64  \n",
            " 11  attack_type   181691 non-null  object \n",
            " 12  target        181691 non-null  object \n",
            " 13  organisation  181691 non-null  object \n",
            " 14  motive        50561 non-null   object \n",
            " 15  weapon_type   181691 non-null  object \n",
            " 16  killed        171378 non-null  float64\n",
            " 17  wounded       165380 non-null  float64\n",
            "dtypes: float64(4), int64(6), object(8)\n",
            "memory usage: 25.0+ MB\n"
          ]
        }
      ]
    },
    {
      "cell_type": "code",
      "source": [
        "df.head()"
      ],
      "metadata": {
        "colab": {
          "base_uri": "https://localhost:8080/",
          "height": 409
        },
        "id": "neUXP4Ig69ag",
        "outputId": "5c1bb978-e651-413b-febe-4ec4f139a9bd"
      },
      "execution_count": 114,
      "outputs": [
        {
          "output_type": "execute_result",
          "data": {
            "text/plain": [
              "   year  month  day  extended             country  \\\n",
              "0  1970      7    2         0  Dominican Republic   \n",
              "1  1970      0    0         0              Mexico   \n",
              "2  1970      1    0         0         Philippines   \n",
              "3  1970      1    0         0              Greece   \n",
              "4  1970      1    0         0               Japan   \n",
              "\n",
              "                        region           city   latitude   longitude  success  \\\n",
              "0  Central America & Caribbean  Santo Domingo  18.456792  -69.951164        1   \n",
              "1                North America    Mexico city  19.371887  -99.086624        1   \n",
              "2               Southeast Asia        Unknown  15.478598  120.599741        1   \n",
              "3               Western Europe         Athens  37.997490   23.762728        1   \n",
              "4                    East Asia        Fukouka  33.580412  130.396361        1   \n",
              "\n",
              "   suicide                     attack_type                       target  \\\n",
              "0        0                   Assassination  Private Citizens & Property   \n",
              "1        0     Hostage Taking (Kidnapping)      Government (Diplomatic)   \n",
              "2        0                   Assassination          Journalists & Media   \n",
              "3        0               Bombing/Explosion      Government (Diplomatic)   \n",
              "4        0  Facility/Infrastructure Attack      Government (Diplomatic)   \n",
              "\n",
              "                         organisation motive weapon_type  killed  wounded  \n",
              "0                              MANO-D    NaN     Unknown     1.0      0.0  \n",
              "1  23rd of September Communist League    NaN     Unknown     0.0      0.0  \n",
              "2                             Unknown    NaN     Unknown     1.0      0.0  \n",
              "3                             Unknown    NaN  Explosives     NaN      NaN  \n",
              "4                             Unknown    NaN  Incendiary     NaN      NaN  "
            ],
            "text/html": [
              "\n",
              "  <div id=\"df-cbca0cf2-2deb-43b2-b74d-fe3866f7a899\">\n",
              "    <div class=\"colab-df-container\">\n",
              "      <div>\n",
              "<style scoped>\n",
              "    .dataframe tbody tr th:only-of-type {\n",
              "        vertical-align: middle;\n",
              "    }\n",
              "\n",
              "    .dataframe tbody tr th {\n",
              "        vertical-align: top;\n",
              "    }\n",
              "\n",
              "    .dataframe thead th {\n",
              "        text-align: right;\n",
              "    }\n",
              "</style>\n",
              "<table border=\"1\" class=\"dataframe\">\n",
              "  <thead>\n",
              "    <tr style=\"text-align: right;\">\n",
              "      <th></th>\n",
              "      <th>year</th>\n",
              "      <th>month</th>\n",
              "      <th>day</th>\n",
              "      <th>extended</th>\n",
              "      <th>country</th>\n",
              "      <th>region</th>\n",
              "      <th>city</th>\n",
              "      <th>latitude</th>\n",
              "      <th>longitude</th>\n",
              "      <th>success</th>\n",
              "      <th>suicide</th>\n",
              "      <th>attack_type</th>\n",
              "      <th>target</th>\n",
              "      <th>organisation</th>\n",
              "      <th>motive</th>\n",
              "      <th>weapon_type</th>\n",
              "      <th>killed</th>\n",
              "      <th>wounded</th>\n",
              "    </tr>\n",
              "  </thead>\n",
              "  <tbody>\n",
              "    <tr>\n",
              "      <th>0</th>\n",
              "      <td>1970</td>\n",
              "      <td>7</td>\n",
              "      <td>2</td>\n",
              "      <td>0</td>\n",
              "      <td>Dominican Republic</td>\n",
              "      <td>Central America &amp; Caribbean</td>\n",
              "      <td>Santo Domingo</td>\n",
              "      <td>18.456792</td>\n",
              "      <td>-69.951164</td>\n",
              "      <td>1</td>\n",
              "      <td>0</td>\n",
              "      <td>Assassination</td>\n",
              "      <td>Private Citizens &amp; Property</td>\n",
              "      <td>MANO-D</td>\n",
              "      <td>NaN</td>\n",
              "      <td>Unknown</td>\n",
              "      <td>1.0</td>\n",
              "      <td>0.0</td>\n",
              "    </tr>\n",
              "    <tr>\n",
              "      <th>1</th>\n",
              "      <td>1970</td>\n",
              "      <td>0</td>\n",
              "      <td>0</td>\n",
              "      <td>0</td>\n",
              "      <td>Mexico</td>\n",
              "      <td>North America</td>\n",
              "      <td>Mexico city</td>\n",
              "      <td>19.371887</td>\n",
              "      <td>-99.086624</td>\n",
              "      <td>1</td>\n",
              "      <td>0</td>\n",
              "      <td>Hostage Taking (Kidnapping)</td>\n",
              "      <td>Government (Diplomatic)</td>\n",
              "      <td>23rd of September Communist League</td>\n",
              "      <td>NaN</td>\n",
              "      <td>Unknown</td>\n",
              "      <td>0.0</td>\n",
              "      <td>0.0</td>\n",
              "    </tr>\n",
              "    <tr>\n",
              "      <th>2</th>\n",
              "      <td>1970</td>\n",
              "      <td>1</td>\n",
              "      <td>0</td>\n",
              "      <td>0</td>\n",
              "      <td>Philippines</td>\n",
              "      <td>Southeast Asia</td>\n",
              "      <td>Unknown</td>\n",
              "      <td>15.478598</td>\n",
              "      <td>120.599741</td>\n",
              "      <td>1</td>\n",
              "      <td>0</td>\n",
              "      <td>Assassination</td>\n",
              "      <td>Journalists &amp; Media</td>\n",
              "      <td>Unknown</td>\n",
              "      <td>NaN</td>\n",
              "      <td>Unknown</td>\n",
              "      <td>1.0</td>\n",
              "      <td>0.0</td>\n",
              "    </tr>\n",
              "    <tr>\n",
              "      <th>3</th>\n",
              "      <td>1970</td>\n",
              "      <td>1</td>\n",
              "      <td>0</td>\n",
              "      <td>0</td>\n",
              "      <td>Greece</td>\n",
              "      <td>Western Europe</td>\n",
              "      <td>Athens</td>\n",
              "      <td>37.997490</td>\n",
              "      <td>23.762728</td>\n",
              "      <td>1</td>\n",
              "      <td>0</td>\n",
              "      <td>Bombing/Explosion</td>\n",
              "      <td>Government (Diplomatic)</td>\n",
              "      <td>Unknown</td>\n",
              "      <td>NaN</td>\n",
              "      <td>Explosives</td>\n",
              "      <td>NaN</td>\n",
              "      <td>NaN</td>\n",
              "    </tr>\n",
              "    <tr>\n",
              "      <th>4</th>\n",
              "      <td>1970</td>\n",
              "      <td>1</td>\n",
              "      <td>0</td>\n",
              "      <td>0</td>\n",
              "      <td>Japan</td>\n",
              "      <td>East Asia</td>\n",
              "      <td>Fukouka</td>\n",
              "      <td>33.580412</td>\n",
              "      <td>130.396361</td>\n",
              "      <td>1</td>\n",
              "      <td>0</td>\n",
              "      <td>Facility/Infrastructure Attack</td>\n",
              "      <td>Government (Diplomatic)</td>\n",
              "      <td>Unknown</td>\n",
              "      <td>NaN</td>\n",
              "      <td>Incendiary</td>\n",
              "      <td>NaN</td>\n",
              "      <td>NaN</td>\n",
              "    </tr>\n",
              "  </tbody>\n",
              "</table>\n",
              "</div>\n",
              "      <button class=\"colab-df-convert\" onclick=\"convertToInteractive('df-cbca0cf2-2deb-43b2-b74d-fe3866f7a899')\"\n",
              "              title=\"Convert this dataframe to an interactive table.\"\n",
              "              style=\"display:none;\">\n",
              "        \n",
              "  <svg xmlns=\"http://www.w3.org/2000/svg\" height=\"24px\"viewBox=\"0 0 24 24\"\n",
              "       width=\"24px\">\n",
              "    <path d=\"M0 0h24v24H0V0z\" fill=\"none\"/>\n",
              "    <path d=\"M18.56 5.44l.94 2.06.94-2.06 2.06-.94-2.06-.94-.94-2.06-.94 2.06-2.06.94zm-11 1L8.5 8.5l.94-2.06 2.06-.94-2.06-.94L8.5 2.5l-.94 2.06-2.06.94zm10 10l.94 2.06.94-2.06 2.06-.94-2.06-.94-.94-2.06-.94 2.06-2.06.94z\"/><path d=\"M17.41 7.96l-1.37-1.37c-.4-.4-.92-.59-1.43-.59-.52 0-1.04.2-1.43.59L10.3 9.45l-7.72 7.72c-.78.78-.78 2.05 0 2.83L4 21.41c.39.39.9.59 1.41.59.51 0 1.02-.2 1.41-.59l7.78-7.78 2.81-2.81c.8-.78.8-2.07 0-2.86zM5.41 20L4 18.59l7.72-7.72 1.47 1.35L5.41 20z\"/>\n",
              "  </svg>\n",
              "      </button>\n",
              "      \n",
              "  <style>\n",
              "    .colab-df-container {\n",
              "      display:flex;\n",
              "      flex-wrap:wrap;\n",
              "      gap: 12px;\n",
              "    }\n",
              "\n",
              "    .colab-df-convert {\n",
              "      background-color: #E8F0FE;\n",
              "      border: none;\n",
              "      border-radius: 50%;\n",
              "      cursor: pointer;\n",
              "      display: none;\n",
              "      fill: #1967D2;\n",
              "      height: 32px;\n",
              "      padding: 0 0 0 0;\n",
              "      width: 32px;\n",
              "    }\n",
              "\n",
              "    .colab-df-convert:hover {\n",
              "      background-color: #E2EBFA;\n",
              "      box-shadow: 0px 1px 2px rgba(60, 64, 67, 0.3), 0px 1px 3px 1px rgba(60, 64, 67, 0.15);\n",
              "      fill: #174EA6;\n",
              "    }\n",
              "\n",
              "    [theme=dark] .colab-df-convert {\n",
              "      background-color: #3B4455;\n",
              "      fill: #D2E3FC;\n",
              "    }\n",
              "\n",
              "    [theme=dark] .colab-df-convert:hover {\n",
              "      background-color: #434B5C;\n",
              "      box-shadow: 0px 1px 3px 1px rgba(0, 0, 0, 0.15);\n",
              "      filter: drop-shadow(0px 1px 2px rgba(0, 0, 0, 0.3));\n",
              "      fill: #FFFFFF;\n",
              "    }\n",
              "  </style>\n",
              "\n",
              "      <script>\n",
              "        const buttonEl =\n",
              "          document.querySelector('#df-cbca0cf2-2deb-43b2-b74d-fe3866f7a899 button.colab-df-convert');\n",
              "        buttonEl.style.display =\n",
              "          google.colab.kernel.accessAllowed ? 'block' : 'none';\n",
              "\n",
              "        async function convertToInteractive(key) {\n",
              "          const element = document.querySelector('#df-cbca0cf2-2deb-43b2-b74d-fe3866f7a899');\n",
              "          const dataTable =\n",
              "            await google.colab.kernel.invokeFunction('convertToInteractive',\n",
              "                                                     [key], {});\n",
              "          if (!dataTable) return;\n",
              "\n",
              "          const docLinkHtml = 'Like what you see? Visit the ' +\n",
              "            '<a target=\"_blank\" href=https://colab.research.google.com/notebooks/data_table.ipynb>data table notebook</a>'\n",
              "            + ' to learn more about interactive tables.';\n",
              "          element.innerHTML = '';\n",
              "          dataTable['output_type'] = 'display_data';\n",
              "          await google.colab.output.renderOutput(dataTable, element);\n",
              "          const docLink = document.createElement('div');\n",
              "          docLink.innerHTML = docLinkHtml;\n",
              "          element.appendChild(docLink);\n",
              "        }\n",
              "      </script>\n",
              "    </div>\n",
              "  </div>\n",
              "  "
            ]
          },
          "metadata": {},
          "execution_count": 114
        }
      ]
    },
    {
      "cell_type": "markdown",
      "source": [
        "Before we proceed any further lets understand what each of the columns means.\n",
        "  * year = The year in which attack has taken place.\n",
        "  * month = The month(represented in numbers) in which the attack has taken   place.\n",
        "  * day = The day in which the attack has taken place.\n",
        "  * extended = If the attacked has extended for more than one day then value 1 is assigned and if it isn't then value 0 is assigned.\n",
        "  * country = The country in which the incident took place.\n",
        "  * city = The city in which the incident took place.\n",
        "  * latitude = This feild represents the latitude.\n",
        "  * longitude = This feild represents the longitude.\n",
        "  * success = This feild informs us whether the attack was a success or a failure(0 = failure, 1 = Success).\n",
        "  * suicide = This feild informs us whether the attack was a suicidal or not\n",
        "  (0 = not suicidal, 1. = suicidal)\n",
        "  * attack_type = The type of attack.\n",
        "  * target = The type of target/victim.\n",
        "  * organisation = Terrorist Organisation that has claimed the attack.\n",
        "  * motive = The motive behind the attack.\n",
        "  * weapon_type = The type of weapon used in the attack.\n",
        "  * killed = The number of people killed in that attack.\n",
        "  * wounded = The number of people wounded in that attack."
      ],
      "metadata": {
        "id": "vWaA56ua7C61"
      }
    },
    {
      "cell_type": "code",
      "source": [
        "df.head()"
      ],
      "metadata": {
        "colab": {
          "base_uri": "https://localhost:8080/",
          "height": 409
        },
        "id": "QmnV_I_e7OuM",
        "outputId": "259a37d8-9c7f-4b81-d69d-36dcaa3f2fc1"
      },
      "execution_count": 115,
      "outputs": [
        {
          "output_type": "execute_result",
          "data": {
            "text/plain": [
              "   year  month  day  extended             country  \\\n",
              "0  1970      7    2         0  Dominican Republic   \n",
              "1  1970      0    0         0              Mexico   \n",
              "2  1970      1    0         0         Philippines   \n",
              "3  1970      1    0         0              Greece   \n",
              "4  1970      1    0         0               Japan   \n",
              "\n",
              "                        region           city   latitude   longitude  success  \\\n",
              "0  Central America & Caribbean  Santo Domingo  18.456792  -69.951164        1   \n",
              "1                North America    Mexico city  19.371887  -99.086624        1   \n",
              "2               Southeast Asia        Unknown  15.478598  120.599741        1   \n",
              "3               Western Europe         Athens  37.997490   23.762728        1   \n",
              "4                    East Asia        Fukouka  33.580412  130.396361        1   \n",
              "\n",
              "   suicide                     attack_type                       target  \\\n",
              "0        0                   Assassination  Private Citizens & Property   \n",
              "1        0     Hostage Taking (Kidnapping)      Government (Diplomatic)   \n",
              "2        0                   Assassination          Journalists & Media   \n",
              "3        0               Bombing/Explosion      Government (Diplomatic)   \n",
              "4        0  Facility/Infrastructure Attack      Government (Diplomatic)   \n",
              "\n",
              "                         organisation motive weapon_type  killed  wounded  \n",
              "0                              MANO-D    NaN     Unknown     1.0      0.0  \n",
              "1  23rd of September Communist League    NaN     Unknown     0.0      0.0  \n",
              "2                             Unknown    NaN     Unknown     1.0      0.0  \n",
              "3                             Unknown    NaN  Explosives     NaN      NaN  \n",
              "4                             Unknown    NaN  Incendiary     NaN      NaN  "
            ],
            "text/html": [
              "\n",
              "  <div id=\"df-42800e38-0449-4eac-9097-10608aa4a3cc\">\n",
              "    <div class=\"colab-df-container\">\n",
              "      <div>\n",
              "<style scoped>\n",
              "    .dataframe tbody tr th:only-of-type {\n",
              "        vertical-align: middle;\n",
              "    }\n",
              "\n",
              "    .dataframe tbody tr th {\n",
              "        vertical-align: top;\n",
              "    }\n",
              "\n",
              "    .dataframe thead th {\n",
              "        text-align: right;\n",
              "    }\n",
              "</style>\n",
              "<table border=\"1\" class=\"dataframe\">\n",
              "  <thead>\n",
              "    <tr style=\"text-align: right;\">\n",
              "      <th></th>\n",
              "      <th>year</th>\n",
              "      <th>month</th>\n",
              "      <th>day</th>\n",
              "      <th>extended</th>\n",
              "      <th>country</th>\n",
              "      <th>region</th>\n",
              "      <th>city</th>\n",
              "      <th>latitude</th>\n",
              "      <th>longitude</th>\n",
              "      <th>success</th>\n",
              "      <th>suicide</th>\n",
              "      <th>attack_type</th>\n",
              "      <th>target</th>\n",
              "      <th>organisation</th>\n",
              "      <th>motive</th>\n",
              "      <th>weapon_type</th>\n",
              "      <th>killed</th>\n",
              "      <th>wounded</th>\n",
              "    </tr>\n",
              "  </thead>\n",
              "  <tbody>\n",
              "    <tr>\n",
              "      <th>0</th>\n",
              "      <td>1970</td>\n",
              "      <td>7</td>\n",
              "      <td>2</td>\n",
              "      <td>0</td>\n",
              "      <td>Dominican Republic</td>\n",
              "      <td>Central America &amp; Caribbean</td>\n",
              "      <td>Santo Domingo</td>\n",
              "      <td>18.456792</td>\n",
              "      <td>-69.951164</td>\n",
              "      <td>1</td>\n",
              "      <td>0</td>\n",
              "      <td>Assassination</td>\n",
              "      <td>Private Citizens &amp; Property</td>\n",
              "      <td>MANO-D</td>\n",
              "      <td>NaN</td>\n",
              "      <td>Unknown</td>\n",
              "      <td>1.0</td>\n",
              "      <td>0.0</td>\n",
              "    </tr>\n",
              "    <tr>\n",
              "      <th>1</th>\n",
              "      <td>1970</td>\n",
              "      <td>0</td>\n",
              "      <td>0</td>\n",
              "      <td>0</td>\n",
              "      <td>Mexico</td>\n",
              "      <td>North America</td>\n",
              "      <td>Mexico city</td>\n",
              "      <td>19.371887</td>\n",
              "      <td>-99.086624</td>\n",
              "      <td>1</td>\n",
              "      <td>0</td>\n",
              "      <td>Hostage Taking (Kidnapping)</td>\n",
              "      <td>Government (Diplomatic)</td>\n",
              "      <td>23rd of September Communist League</td>\n",
              "      <td>NaN</td>\n",
              "      <td>Unknown</td>\n",
              "      <td>0.0</td>\n",
              "      <td>0.0</td>\n",
              "    </tr>\n",
              "    <tr>\n",
              "      <th>2</th>\n",
              "      <td>1970</td>\n",
              "      <td>1</td>\n",
              "      <td>0</td>\n",
              "      <td>0</td>\n",
              "      <td>Philippines</td>\n",
              "      <td>Southeast Asia</td>\n",
              "      <td>Unknown</td>\n",
              "      <td>15.478598</td>\n",
              "      <td>120.599741</td>\n",
              "      <td>1</td>\n",
              "      <td>0</td>\n",
              "      <td>Assassination</td>\n",
              "      <td>Journalists &amp; Media</td>\n",
              "      <td>Unknown</td>\n",
              "      <td>NaN</td>\n",
              "      <td>Unknown</td>\n",
              "      <td>1.0</td>\n",
              "      <td>0.0</td>\n",
              "    </tr>\n",
              "    <tr>\n",
              "      <th>3</th>\n",
              "      <td>1970</td>\n",
              "      <td>1</td>\n",
              "      <td>0</td>\n",
              "      <td>0</td>\n",
              "      <td>Greece</td>\n",
              "      <td>Western Europe</td>\n",
              "      <td>Athens</td>\n",
              "      <td>37.997490</td>\n",
              "      <td>23.762728</td>\n",
              "      <td>1</td>\n",
              "      <td>0</td>\n",
              "      <td>Bombing/Explosion</td>\n",
              "      <td>Government (Diplomatic)</td>\n",
              "      <td>Unknown</td>\n",
              "      <td>NaN</td>\n",
              "      <td>Explosives</td>\n",
              "      <td>NaN</td>\n",
              "      <td>NaN</td>\n",
              "    </tr>\n",
              "    <tr>\n",
              "      <th>4</th>\n",
              "      <td>1970</td>\n",
              "      <td>1</td>\n",
              "      <td>0</td>\n",
              "      <td>0</td>\n",
              "      <td>Japan</td>\n",
              "      <td>East Asia</td>\n",
              "      <td>Fukouka</td>\n",
              "      <td>33.580412</td>\n",
              "      <td>130.396361</td>\n",
              "      <td>1</td>\n",
              "      <td>0</td>\n",
              "      <td>Facility/Infrastructure Attack</td>\n",
              "      <td>Government (Diplomatic)</td>\n",
              "      <td>Unknown</td>\n",
              "      <td>NaN</td>\n",
              "      <td>Incendiary</td>\n",
              "      <td>NaN</td>\n",
              "      <td>NaN</td>\n",
              "    </tr>\n",
              "  </tbody>\n",
              "</table>\n",
              "</div>\n",
              "      <button class=\"colab-df-convert\" onclick=\"convertToInteractive('df-42800e38-0449-4eac-9097-10608aa4a3cc')\"\n",
              "              title=\"Convert this dataframe to an interactive table.\"\n",
              "              style=\"display:none;\">\n",
              "        \n",
              "  <svg xmlns=\"http://www.w3.org/2000/svg\" height=\"24px\"viewBox=\"0 0 24 24\"\n",
              "       width=\"24px\">\n",
              "    <path d=\"M0 0h24v24H0V0z\" fill=\"none\"/>\n",
              "    <path d=\"M18.56 5.44l.94 2.06.94-2.06 2.06-.94-2.06-.94-.94-2.06-.94 2.06-2.06.94zm-11 1L8.5 8.5l.94-2.06 2.06-.94-2.06-.94L8.5 2.5l-.94 2.06-2.06.94zm10 10l.94 2.06.94-2.06 2.06-.94-2.06-.94-.94-2.06-.94 2.06-2.06.94z\"/><path d=\"M17.41 7.96l-1.37-1.37c-.4-.4-.92-.59-1.43-.59-.52 0-1.04.2-1.43.59L10.3 9.45l-7.72 7.72c-.78.78-.78 2.05 0 2.83L4 21.41c.39.39.9.59 1.41.59.51 0 1.02-.2 1.41-.59l7.78-7.78 2.81-2.81c.8-.78.8-2.07 0-2.86zM5.41 20L4 18.59l7.72-7.72 1.47 1.35L5.41 20z\"/>\n",
              "  </svg>\n",
              "      </button>\n",
              "      \n",
              "  <style>\n",
              "    .colab-df-container {\n",
              "      display:flex;\n",
              "      flex-wrap:wrap;\n",
              "      gap: 12px;\n",
              "    }\n",
              "\n",
              "    .colab-df-convert {\n",
              "      background-color: #E8F0FE;\n",
              "      border: none;\n",
              "      border-radius: 50%;\n",
              "      cursor: pointer;\n",
              "      display: none;\n",
              "      fill: #1967D2;\n",
              "      height: 32px;\n",
              "      padding: 0 0 0 0;\n",
              "      width: 32px;\n",
              "    }\n",
              "\n",
              "    .colab-df-convert:hover {\n",
              "      background-color: #E2EBFA;\n",
              "      box-shadow: 0px 1px 2px rgba(60, 64, 67, 0.3), 0px 1px 3px 1px rgba(60, 64, 67, 0.15);\n",
              "      fill: #174EA6;\n",
              "    }\n",
              "\n",
              "    [theme=dark] .colab-df-convert {\n",
              "      background-color: #3B4455;\n",
              "      fill: #D2E3FC;\n",
              "    }\n",
              "\n",
              "    [theme=dark] .colab-df-convert:hover {\n",
              "      background-color: #434B5C;\n",
              "      box-shadow: 0px 1px 3px 1px rgba(0, 0, 0, 0.15);\n",
              "      filter: drop-shadow(0px 1px 2px rgba(0, 0, 0, 0.3));\n",
              "      fill: #FFFFFF;\n",
              "    }\n",
              "  </style>\n",
              "\n",
              "      <script>\n",
              "        const buttonEl =\n",
              "          document.querySelector('#df-42800e38-0449-4eac-9097-10608aa4a3cc button.colab-df-convert');\n",
              "        buttonEl.style.display =\n",
              "          google.colab.kernel.accessAllowed ? 'block' : 'none';\n",
              "\n",
              "        async function convertToInteractive(key) {\n",
              "          const element = document.querySelector('#df-42800e38-0449-4eac-9097-10608aa4a3cc');\n",
              "          const dataTable =\n",
              "            await google.colab.kernel.invokeFunction('convertToInteractive',\n",
              "                                                     [key], {});\n",
              "          if (!dataTable) return;\n",
              "\n",
              "          const docLinkHtml = 'Like what you see? Visit the ' +\n",
              "            '<a target=\"_blank\" href=https://colab.research.google.com/notebooks/data_table.ipynb>data table notebook</a>'\n",
              "            + ' to learn more about interactive tables.';\n",
              "          element.innerHTML = '';\n",
              "          dataTable['output_type'] = 'display_data';\n",
              "          await google.colab.output.renderOutput(dataTable, element);\n",
              "          const docLink = document.createElement('div');\n",
              "          docLink.innerHTML = docLinkHtml;\n",
              "          element.appendChild(docLink);\n",
              "        }\n",
              "      </script>\n",
              "    </div>\n",
              "  </div>\n",
              "  "
            ]
          },
          "metadata": {},
          "execution_count": 115
        }
      ]
    },
    {
      "cell_type": "code",
      "source": [
        "df.shape"
      ],
      "metadata": {
        "colab": {
          "base_uri": "https://localhost:8080/"
        },
        "id": "GVTzlA2s7SdD",
        "outputId": "29438b38-bd8c-4692-c78a-731a7b4af97d"
      },
      "execution_count": 116,
      "outputs": [
        {
          "output_type": "execute_result",
          "data": {
            "text/plain": [
              "(181691, 18)"
            ]
          },
          "metadata": {},
          "execution_count": 116
        }
      ]
    },
    {
      "cell_type": "markdown",
      "source": [
        "Now lets deal with **null values**\n",
        "\n",
        "I have replaced the motive column null values with unknown.\n",
        "\n",
        "and also I have replaced the city column null values with unknown."
      ],
      "metadata": {
        "id": "Te29jvrM7Xq4"
      }
    },
    {
      "cell_type": "code",
      "source": [
        "df['motive'].value_counts()"
      ],
      "metadata": {
        "colab": {
          "base_uri": "https://localhost:8080/"
        },
        "id": "9p9BOoNH7UJQ",
        "outputId": "7fd908ef-7b0f-4a14-a808-378e3c6e7d6c"
      },
      "execution_count": 117,
      "outputs": [
        {
          "output_type": "execute_result",
          "data": {
            "text/plain": [
              "Unknown                                                                                                                                                                                                                                                                                                                                                                  14889\n",
              "The specific motive for the attack is unknown.                                                                                                                                                                                                                                                                                                                           14430\n",
              "The specific motive is unknown; however, sources noted that the attack may have been part of a larger trend of violence related to Bangladesh's nationwide hartal, which began on January 6, 2015.                                                                                                                                                                         297\n",
              "The specific motive for the attack is unknown..                                                                                                                                                                                                                                                                                                                            148\n",
              "The specific motive for the attack is unknown or was not reported.                                                                                                                                                                                                                                                                                                         144\n",
              "                                                                                                                                                                                                                                                                                                                                                                         ...  \n",
              "Doka Umarov and the Riyadus-Salikhin Battalion of Shakhids claimed responsibility for the attack, via message to the Kavkazcenter website that said the bombing was a planned diversionary act directed against the FSB Academy in Moscow in response to the crimes of the FSB on the territory of the North Caucasus.                                                   1\n",
              "The attack was carried out  to protest the visit of President of India, Pratibha Devi Singh Patil, to Manipur and also that it was carried out to expose alleged covert agenda of the Central Government to push in non-locals into Manipur. The release also stated that the outfit will carry on with the operation clear cut to drive away foreigners on schedule.        1\n",
              "Authorities suspect the motive of the attack was extortion related.                                                                                                                                                                                                                                                                                                          1\n",
              "The specific motive for the attack is unknown; however, ULFA militants sent an email on 02/19/2011 warning the Congress of dire consequences ahead of the elections for the alleged divisive tactics adopted by the party to divide the ULFA.                                                                                                                                1\n",
              "The specific motive is unknown; however, sources stated that the Taliban had warned one of the victims against collaborating with the government.                                                                                                                                                                                                                            1\n",
              "Name: motive, Length: 14490, dtype: int64"
            ]
          },
          "metadata": {},
          "execution_count": 117
        }
      ]
    },
    {
      "cell_type": "code",
      "source": [
        "df['motive'].fillna('Unknown',inplace = True)\n",
        "df['city'].fillna('Unknown',inplace = True)"
      ],
      "metadata": {
        "id": "SlYV3K4m7aZ8"
      },
      "execution_count": 118,
      "outputs": []
    },
    {
      "cell_type": "code",
      "source": [
        "# Checking if there are any null values in motive and city column\n",
        "df[df['motive'].isnull()]['motive'].count()"
      ],
      "metadata": {
        "colab": {
          "base_uri": "https://localhost:8080/"
        },
        "id": "vzpQVCDP7dHc",
        "outputId": "8d96cf4d-b7f9-4ec5-8597-ff3990576945"
      },
      "execution_count": 119,
      "outputs": [
        {
          "output_type": "execute_result",
          "data": {
            "text/plain": [
              "0"
            ]
          },
          "metadata": {},
          "execution_count": 119
        }
      ]
    },
    {
      "cell_type": "code",
      "source": [
        "df[df['city'].isnull()]['city'].count()"
      ],
      "metadata": {
        "colab": {
          "base_uri": "https://localhost:8080/"
        },
        "id": "7sFIp2m07fB-",
        "outputId": "30a77451-d4c2-4e4a-d947-0fd6f457b63b"
      },
      "execution_count": 120,
      "outputs": [
        {
          "output_type": "execute_result",
          "data": {
            "text/plain": [
              "0"
            ]
          },
          "metadata": {},
          "execution_count": 120
        }
      ]
    },
    {
      "cell_type": "markdown",
      "source": [
        "Now, Let's move onto the interesting part i.e, the **Data Analysis** part."
      ],
      "metadata": {
        "id": "I-aNDaOm7j7L"
      }
    },
    {
      "cell_type": "markdown",
      "source": [
        "# Preliminary analysis"
      ],
      "metadata": {
        "id": "yeot3Go6Olg5"
      }
    },
    {
      "cell_type": "code",
      "source": [
        "df.head()"
      ],
      "metadata": {
        "colab": {
          "base_uri": "https://localhost:8080/",
          "height": 409
        },
        "id": "63CypqljBQ7r",
        "outputId": "1a44cd99-a94d-498a-e8df-46aa7e43d061"
      },
      "execution_count": 121,
      "outputs": [
        {
          "output_type": "execute_result",
          "data": {
            "text/plain": [
              "   year  month  day  extended             country  \\\n",
              "0  1970      7    2         0  Dominican Republic   \n",
              "1  1970      0    0         0              Mexico   \n",
              "2  1970      1    0         0         Philippines   \n",
              "3  1970      1    0         0              Greece   \n",
              "4  1970      1    0         0               Japan   \n",
              "\n",
              "                        region           city   latitude   longitude  success  \\\n",
              "0  Central America & Caribbean  Santo Domingo  18.456792  -69.951164        1   \n",
              "1                North America    Mexico city  19.371887  -99.086624        1   \n",
              "2               Southeast Asia        Unknown  15.478598  120.599741        1   \n",
              "3               Western Europe         Athens  37.997490   23.762728        1   \n",
              "4                    East Asia        Fukouka  33.580412  130.396361        1   \n",
              "\n",
              "   suicide                     attack_type                       target  \\\n",
              "0        0                   Assassination  Private Citizens & Property   \n",
              "1        0     Hostage Taking (Kidnapping)      Government (Diplomatic)   \n",
              "2        0                   Assassination          Journalists & Media   \n",
              "3        0               Bombing/Explosion      Government (Diplomatic)   \n",
              "4        0  Facility/Infrastructure Attack      Government (Diplomatic)   \n",
              "\n",
              "                         organisation   motive weapon_type  killed  wounded  \n",
              "0                              MANO-D  Unknown     Unknown     1.0      0.0  \n",
              "1  23rd of September Communist League  Unknown     Unknown     0.0      0.0  \n",
              "2                             Unknown  Unknown     Unknown     1.0      0.0  \n",
              "3                             Unknown  Unknown  Explosives     NaN      NaN  \n",
              "4                             Unknown  Unknown  Incendiary     NaN      NaN  "
            ],
            "text/html": [
              "\n",
              "  <div id=\"df-211f977a-6ae1-4c6e-8390-75ee69c11e29\">\n",
              "    <div class=\"colab-df-container\">\n",
              "      <div>\n",
              "<style scoped>\n",
              "    .dataframe tbody tr th:only-of-type {\n",
              "        vertical-align: middle;\n",
              "    }\n",
              "\n",
              "    .dataframe tbody tr th {\n",
              "        vertical-align: top;\n",
              "    }\n",
              "\n",
              "    .dataframe thead th {\n",
              "        text-align: right;\n",
              "    }\n",
              "</style>\n",
              "<table border=\"1\" class=\"dataframe\">\n",
              "  <thead>\n",
              "    <tr style=\"text-align: right;\">\n",
              "      <th></th>\n",
              "      <th>year</th>\n",
              "      <th>month</th>\n",
              "      <th>day</th>\n",
              "      <th>extended</th>\n",
              "      <th>country</th>\n",
              "      <th>region</th>\n",
              "      <th>city</th>\n",
              "      <th>latitude</th>\n",
              "      <th>longitude</th>\n",
              "      <th>success</th>\n",
              "      <th>suicide</th>\n",
              "      <th>attack_type</th>\n",
              "      <th>target</th>\n",
              "      <th>organisation</th>\n",
              "      <th>motive</th>\n",
              "      <th>weapon_type</th>\n",
              "      <th>killed</th>\n",
              "      <th>wounded</th>\n",
              "    </tr>\n",
              "  </thead>\n",
              "  <tbody>\n",
              "    <tr>\n",
              "      <th>0</th>\n",
              "      <td>1970</td>\n",
              "      <td>7</td>\n",
              "      <td>2</td>\n",
              "      <td>0</td>\n",
              "      <td>Dominican Republic</td>\n",
              "      <td>Central America &amp; Caribbean</td>\n",
              "      <td>Santo Domingo</td>\n",
              "      <td>18.456792</td>\n",
              "      <td>-69.951164</td>\n",
              "      <td>1</td>\n",
              "      <td>0</td>\n",
              "      <td>Assassination</td>\n",
              "      <td>Private Citizens &amp; Property</td>\n",
              "      <td>MANO-D</td>\n",
              "      <td>Unknown</td>\n",
              "      <td>Unknown</td>\n",
              "      <td>1.0</td>\n",
              "      <td>0.0</td>\n",
              "    </tr>\n",
              "    <tr>\n",
              "      <th>1</th>\n",
              "      <td>1970</td>\n",
              "      <td>0</td>\n",
              "      <td>0</td>\n",
              "      <td>0</td>\n",
              "      <td>Mexico</td>\n",
              "      <td>North America</td>\n",
              "      <td>Mexico city</td>\n",
              "      <td>19.371887</td>\n",
              "      <td>-99.086624</td>\n",
              "      <td>1</td>\n",
              "      <td>0</td>\n",
              "      <td>Hostage Taking (Kidnapping)</td>\n",
              "      <td>Government (Diplomatic)</td>\n",
              "      <td>23rd of September Communist League</td>\n",
              "      <td>Unknown</td>\n",
              "      <td>Unknown</td>\n",
              "      <td>0.0</td>\n",
              "      <td>0.0</td>\n",
              "    </tr>\n",
              "    <tr>\n",
              "      <th>2</th>\n",
              "      <td>1970</td>\n",
              "      <td>1</td>\n",
              "      <td>0</td>\n",
              "      <td>0</td>\n",
              "      <td>Philippines</td>\n",
              "      <td>Southeast Asia</td>\n",
              "      <td>Unknown</td>\n",
              "      <td>15.478598</td>\n",
              "      <td>120.599741</td>\n",
              "      <td>1</td>\n",
              "      <td>0</td>\n",
              "      <td>Assassination</td>\n",
              "      <td>Journalists &amp; Media</td>\n",
              "      <td>Unknown</td>\n",
              "      <td>Unknown</td>\n",
              "      <td>Unknown</td>\n",
              "      <td>1.0</td>\n",
              "      <td>0.0</td>\n",
              "    </tr>\n",
              "    <tr>\n",
              "      <th>3</th>\n",
              "      <td>1970</td>\n",
              "      <td>1</td>\n",
              "      <td>0</td>\n",
              "      <td>0</td>\n",
              "      <td>Greece</td>\n",
              "      <td>Western Europe</td>\n",
              "      <td>Athens</td>\n",
              "      <td>37.997490</td>\n",
              "      <td>23.762728</td>\n",
              "      <td>1</td>\n",
              "      <td>0</td>\n",
              "      <td>Bombing/Explosion</td>\n",
              "      <td>Government (Diplomatic)</td>\n",
              "      <td>Unknown</td>\n",
              "      <td>Unknown</td>\n",
              "      <td>Explosives</td>\n",
              "      <td>NaN</td>\n",
              "      <td>NaN</td>\n",
              "    </tr>\n",
              "    <tr>\n",
              "      <th>4</th>\n",
              "      <td>1970</td>\n",
              "      <td>1</td>\n",
              "      <td>0</td>\n",
              "      <td>0</td>\n",
              "      <td>Japan</td>\n",
              "      <td>East Asia</td>\n",
              "      <td>Fukouka</td>\n",
              "      <td>33.580412</td>\n",
              "      <td>130.396361</td>\n",
              "      <td>1</td>\n",
              "      <td>0</td>\n",
              "      <td>Facility/Infrastructure Attack</td>\n",
              "      <td>Government (Diplomatic)</td>\n",
              "      <td>Unknown</td>\n",
              "      <td>Unknown</td>\n",
              "      <td>Incendiary</td>\n",
              "      <td>NaN</td>\n",
              "      <td>NaN</td>\n",
              "    </tr>\n",
              "  </tbody>\n",
              "</table>\n",
              "</div>\n",
              "      <button class=\"colab-df-convert\" onclick=\"convertToInteractive('df-211f977a-6ae1-4c6e-8390-75ee69c11e29')\"\n",
              "              title=\"Convert this dataframe to an interactive table.\"\n",
              "              style=\"display:none;\">\n",
              "        \n",
              "  <svg xmlns=\"http://www.w3.org/2000/svg\" height=\"24px\"viewBox=\"0 0 24 24\"\n",
              "       width=\"24px\">\n",
              "    <path d=\"M0 0h24v24H0V0z\" fill=\"none\"/>\n",
              "    <path d=\"M18.56 5.44l.94 2.06.94-2.06 2.06-.94-2.06-.94-.94-2.06-.94 2.06-2.06.94zm-11 1L8.5 8.5l.94-2.06 2.06-.94-2.06-.94L8.5 2.5l-.94 2.06-2.06.94zm10 10l.94 2.06.94-2.06 2.06-.94-2.06-.94-.94-2.06-.94 2.06-2.06.94z\"/><path d=\"M17.41 7.96l-1.37-1.37c-.4-.4-.92-.59-1.43-.59-.52 0-1.04.2-1.43.59L10.3 9.45l-7.72 7.72c-.78.78-.78 2.05 0 2.83L4 21.41c.39.39.9.59 1.41.59.51 0 1.02-.2 1.41-.59l7.78-7.78 2.81-2.81c.8-.78.8-2.07 0-2.86zM5.41 20L4 18.59l7.72-7.72 1.47 1.35L5.41 20z\"/>\n",
              "  </svg>\n",
              "      </button>\n",
              "      \n",
              "  <style>\n",
              "    .colab-df-container {\n",
              "      display:flex;\n",
              "      flex-wrap:wrap;\n",
              "      gap: 12px;\n",
              "    }\n",
              "\n",
              "    .colab-df-convert {\n",
              "      background-color: #E8F0FE;\n",
              "      border: none;\n",
              "      border-radius: 50%;\n",
              "      cursor: pointer;\n",
              "      display: none;\n",
              "      fill: #1967D2;\n",
              "      height: 32px;\n",
              "      padding: 0 0 0 0;\n",
              "      width: 32px;\n",
              "    }\n",
              "\n",
              "    .colab-df-convert:hover {\n",
              "      background-color: #E2EBFA;\n",
              "      box-shadow: 0px 1px 2px rgba(60, 64, 67, 0.3), 0px 1px 3px 1px rgba(60, 64, 67, 0.15);\n",
              "      fill: #174EA6;\n",
              "    }\n",
              "\n",
              "    [theme=dark] .colab-df-convert {\n",
              "      background-color: #3B4455;\n",
              "      fill: #D2E3FC;\n",
              "    }\n",
              "\n",
              "    [theme=dark] .colab-df-convert:hover {\n",
              "      background-color: #434B5C;\n",
              "      box-shadow: 0px 1px 3px 1px rgba(0, 0, 0, 0.15);\n",
              "      filter: drop-shadow(0px 1px 2px rgba(0, 0, 0, 0.3));\n",
              "      fill: #FFFFFF;\n",
              "    }\n",
              "  </style>\n",
              "\n",
              "      <script>\n",
              "        const buttonEl =\n",
              "          document.querySelector('#df-211f977a-6ae1-4c6e-8390-75ee69c11e29 button.colab-df-convert');\n",
              "        buttonEl.style.display =\n",
              "          google.colab.kernel.accessAllowed ? 'block' : 'none';\n",
              "\n",
              "        async function convertToInteractive(key) {\n",
              "          const element = document.querySelector('#df-211f977a-6ae1-4c6e-8390-75ee69c11e29');\n",
              "          const dataTable =\n",
              "            await google.colab.kernel.invokeFunction('convertToInteractive',\n",
              "                                                     [key], {});\n",
              "          if (!dataTable) return;\n",
              "\n",
              "          const docLinkHtml = 'Like what you see? Visit the ' +\n",
              "            '<a target=\"_blank\" href=https://colab.research.google.com/notebooks/data_table.ipynb>data table notebook</a>'\n",
              "            + ' to learn more about interactive tables.';\n",
              "          element.innerHTML = '';\n",
              "          dataTable['output_type'] = 'display_data';\n",
              "          await google.colab.output.renderOutput(dataTable, element);\n",
              "          const docLink = document.createElement('div');\n",
              "          docLink.innerHTML = docLinkHtml;\n",
              "          element.appendChild(docLink);\n",
              "        }\n",
              "      </script>\n",
              "    </div>\n",
              "  </div>\n",
              "  "
            ]
          },
          "metadata": {},
          "execution_count": 121
        }
      ]
    },
    {
      "cell_type": "markdown",
      "source": [
        "## The most successful terroist organisations. "
      ],
      "metadata": {
        "id": "pDVFuCR7JKdx"
      }
    },
    {
      "cell_type": "markdown",
      "source": [
        "My Hypotesis - The most successful terrorist organisation is **Taliban** "
      ],
      "metadata": {
        "id": "XqmiX4gcJcMO"
      }
    },
    {
      "cell_type": "code",
      "source": [
        "# Most successful terroist organisations.\n",
        "no_unknown_organisations = df[df['organisation'] != 'Unknown']\n",
        "most_succesful_organisations = no_unknown_organisations.groupby('organisation').agg({'success':'sum'}).rename(columns = {'success':'succesful attacks'}).sort_values('succesful attacks', ascending = False).head(5)"
      ],
      "metadata": {
        "id": "uk-TKpEXBTLt"
      },
      "execution_count": 122,
      "outputs": []
    },
    {
      "cell_type": "code",
      "source": [
        "most_succesful_organisations"
      ],
      "metadata": {
        "colab": {
          "base_uri": "https://localhost:8080/",
          "height": 237
        },
        "id": "7Q4YNh6oCuf3",
        "outputId": "cde709d4-cc11-4a87-92e6-321eca39b92f"
      },
      "execution_count": 74,
      "outputs": [
        {
          "output_type": "execute_result",
          "data": {
            "text/plain": [
              "                                                  succesful attacks\n",
              "organisation                                                       \n",
              "Taliban                                                        6680\n",
              "Islamic State of Iraq and the Levant (ISIL)                    4759\n",
              "Shining Path (SL)                                              4337\n",
              "Farabundo Marti National Liberation Front (FMLN)               3317\n",
              "Al-Shabaab                                                     3016"
            ],
            "text/html": [
              "\n",
              "  <div id=\"df-c4462396-5574-4fe8-9980-4b734ea8026a\">\n",
              "    <div class=\"colab-df-container\">\n",
              "      <div>\n",
              "<style scoped>\n",
              "    .dataframe tbody tr th:only-of-type {\n",
              "        vertical-align: middle;\n",
              "    }\n",
              "\n",
              "    .dataframe tbody tr th {\n",
              "        vertical-align: top;\n",
              "    }\n",
              "\n",
              "    .dataframe thead th {\n",
              "        text-align: right;\n",
              "    }\n",
              "</style>\n",
              "<table border=\"1\" class=\"dataframe\">\n",
              "  <thead>\n",
              "    <tr style=\"text-align: right;\">\n",
              "      <th></th>\n",
              "      <th>succesful attacks</th>\n",
              "    </tr>\n",
              "    <tr>\n",
              "      <th>organisation</th>\n",
              "      <th></th>\n",
              "    </tr>\n",
              "  </thead>\n",
              "  <tbody>\n",
              "    <tr>\n",
              "      <th>Taliban</th>\n",
              "      <td>6680</td>\n",
              "    </tr>\n",
              "    <tr>\n",
              "      <th>Islamic State of Iraq and the Levant (ISIL)</th>\n",
              "      <td>4759</td>\n",
              "    </tr>\n",
              "    <tr>\n",
              "      <th>Shining Path (SL)</th>\n",
              "      <td>4337</td>\n",
              "    </tr>\n",
              "    <tr>\n",
              "      <th>Farabundo Marti National Liberation Front (FMLN)</th>\n",
              "      <td>3317</td>\n",
              "    </tr>\n",
              "    <tr>\n",
              "      <th>Al-Shabaab</th>\n",
              "      <td>3016</td>\n",
              "    </tr>\n",
              "  </tbody>\n",
              "</table>\n",
              "</div>\n",
              "      <button class=\"colab-df-convert\" onclick=\"convertToInteractive('df-c4462396-5574-4fe8-9980-4b734ea8026a')\"\n",
              "              title=\"Convert this dataframe to an interactive table.\"\n",
              "              style=\"display:none;\">\n",
              "        \n",
              "  <svg xmlns=\"http://www.w3.org/2000/svg\" height=\"24px\"viewBox=\"0 0 24 24\"\n",
              "       width=\"24px\">\n",
              "    <path d=\"M0 0h24v24H0V0z\" fill=\"none\"/>\n",
              "    <path d=\"M18.56 5.44l.94 2.06.94-2.06 2.06-.94-2.06-.94-.94-2.06-.94 2.06-2.06.94zm-11 1L8.5 8.5l.94-2.06 2.06-.94-2.06-.94L8.5 2.5l-.94 2.06-2.06.94zm10 10l.94 2.06.94-2.06 2.06-.94-2.06-.94-.94-2.06-.94 2.06-2.06.94z\"/><path d=\"M17.41 7.96l-1.37-1.37c-.4-.4-.92-.59-1.43-.59-.52 0-1.04.2-1.43.59L10.3 9.45l-7.72 7.72c-.78.78-.78 2.05 0 2.83L4 21.41c.39.39.9.59 1.41.59.51 0 1.02-.2 1.41-.59l7.78-7.78 2.81-2.81c.8-.78.8-2.07 0-2.86zM5.41 20L4 18.59l7.72-7.72 1.47 1.35L5.41 20z\"/>\n",
              "  </svg>\n",
              "      </button>\n",
              "      \n",
              "  <style>\n",
              "    .colab-df-container {\n",
              "      display:flex;\n",
              "      flex-wrap:wrap;\n",
              "      gap: 12px;\n",
              "    }\n",
              "\n",
              "    .colab-df-convert {\n",
              "      background-color: #E8F0FE;\n",
              "      border: none;\n",
              "      border-radius: 50%;\n",
              "      cursor: pointer;\n",
              "      display: none;\n",
              "      fill: #1967D2;\n",
              "      height: 32px;\n",
              "      padding: 0 0 0 0;\n",
              "      width: 32px;\n",
              "    }\n",
              "\n",
              "    .colab-df-convert:hover {\n",
              "      background-color: #E2EBFA;\n",
              "      box-shadow: 0px 1px 2px rgba(60, 64, 67, 0.3), 0px 1px 3px 1px rgba(60, 64, 67, 0.15);\n",
              "      fill: #174EA6;\n",
              "    }\n",
              "\n",
              "    [theme=dark] .colab-df-convert {\n",
              "      background-color: #3B4455;\n",
              "      fill: #D2E3FC;\n",
              "    }\n",
              "\n",
              "    [theme=dark] .colab-df-convert:hover {\n",
              "      background-color: #434B5C;\n",
              "      box-shadow: 0px 1px 3px 1px rgba(0, 0, 0, 0.15);\n",
              "      filter: drop-shadow(0px 1px 2px rgba(0, 0, 0, 0.3));\n",
              "      fill: #FFFFFF;\n",
              "    }\n",
              "  </style>\n",
              "\n",
              "      <script>\n",
              "        const buttonEl =\n",
              "          document.querySelector('#df-c4462396-5574-4fe8-9980-4b734ea8026a button.colab-df-convert');\n",
              "        buttonEl.style.display =\n",
              "          google.colab.kernel.accessAllowed ? 'block' : 'none';\n",
              "\n",
              "        async function convertToInteractive(key) {\n",
              "          const element = document.querySelector('#df-c4462396-5574-4fe8-9980-4b734ea8026a');\n",
              "          const dataTable =\n",
              "            await google.colab.kernel.invokeFunction('convertToInteractive',\n",
              "                                                     [key], {});\n",
              "          if (!dataTable) return;\n",
              "\n",
              "          const docLinkHtml = 'Like what you see? Visit the ' +\n",
              "            '<a target=\"_blank\" href=https://colab.research.google.com/notebooks/data_table.ipynb>data table notebook</a>'\n",
              "            + ' to learn more about interactive tables.';\n",
              "          element.innerHTML = '';\n",
              "          dataTable['output_type'] = 'display_data';\n",
              "          await google.colab.output.renderOutput(dataTable, element);\n",
              "          const docLink = document.createElement('div');\n",
              "          docLink.innerHTML = docLinkHtml;\n",
              "          element.appendChild(docLink);\n",
              "        }\n",
              "      </script>\n",
              "    </div>\n",
              "  </div>\n",
              "  "
            ]
          },
          "metadata": {},
          "execution_count": 74
        }
      ]
    },
    {
      "cell_type": "code",
      "source": [
        "# The input data for a pie chart must be an array.\n",
        "data = np.array([6680,4759,4337,3317,3016])\n",
        "terror_org = np.array(['Taliban','Islamic State of Iraq and the Levant (ISIL)','Shining Path (SL)','Farabundo Marti National Liberation Front (FMLN)',\n",
        "                   'Al-Shabaab'])\n",
        "myexplode = [0.2,0,0,0,0]"
      ],
      "metadata": {
        "id": "24QA__T8DZ5j"
      },
      "execution_count": 123,
      "outputs": []
    },
    {
      "cell_type": "code",
      "source": [
        "# Ploting a Pie chart.\n",
        "plt.pie(data, labels = terror_org, explode = myexplode, shadow = True)"
      ],
      "metadata": {
        "colab": {
          "base_uri": "https://localhost:8080/",
          "height": 426
        },
        "id": "GWJ9ngGmF_DX",
        "outputId": "1cdc42fb-e922-48da-fdbb-2b9e495e1fbe"
      },
      "execution_count": 124,
      "outputs": [
        {
          "output_type": "execute_result",
          "data": {
            "text/plain": [
              "([<matplotlib.patches.Wedge at 0x7f175c04de10>,\n",
              "  <matplotlib.patches.Wedge at 0x7f175c050250>,\n",
              "  <matplotlib.patches.Wedge at 0x7f175c050c90>,\n",
              "  <matplotlib.patches.Wedge at 0x7f175c053b90>,\n",
              "  <matplotlib.patches.Wedge at 0x7f175c053ed0>],\n",
              " [Text(0.7570348636056958, 1.0568340528604792, 'Taliban'),\n",
              "  Text(-0.9278903735168371, 0.590778685071478, 'Islamic State of Iraq and the Levant (ISIL)'),\n",
              "  Text(-0.8229550320745564, -0.7298938382964786, 'Shining Path (SL)'),\n",
              "  Text(0.2639768800951863, -1.0678558923259316, 'Farabundo Marti National Liberation Front (FMLN)'),\n",
              "  Text(1.0005214389119115, -0.4571179828858612, 'Al-Shabaab')])"
            ]
          },
          "metadata": {},
          "execution_count": 124
        },
        {
          "output_type": "display_data",
          "data": {
            "text/plain": [
              "<Figure size 432x288 with 1 Axes>"
            ],
            "image/png": "[encoded data removed]"
          },
          "metadata": {}
        }
      ]
    },
    {
      "cell_type": "markdown",
      "source": [
        "**My Hypotesis is True!**\n",
        "\n",
        "**Taliban is the most successful organisation, but ISIL is not far behind.**"
      ],
      "metadata": {
        "id": "5CXhFlo0Jm-_"
      }
    },
    {
      "cell_type": "markdown",
      "source": [
        "## Let's check how intimate the variables are against other variables."
      ],
      "metadata": {
        "id": "EFu7PIrl9EPi"
      }
    },
    {
      "cell_type": "code",
      "source": [
        "# This can be done by ploting a correlation heat map.\n",
        "corr = df.corr()"
      ],
      "metadata": {
        "id": "u0cKPRk_9DEN"
      },
      "execution_count": 125,
      "outputs": []
    },
    {
      "cell_type": "code",
      "source": [
        "# Ploting the correlation in the form of a heatmap.\n",
        "sns.heatmap(np.round(corr,2), annot = True,cmap = 'BuPu') \n",
        "plt.figure(figsize=(15,10))"
      ],
      "metadata": {
        "colab": {
          "base_uri": "https://localhost:8080/",
          "height": 342
        },
        "id": "tsO3V--s90_Y",
        "outputId": "67e6de57-9f57-4a04-dd62-e6a73f87ac61"
      },
      "execution_count": 126,
      "outputs": [
        {
          "output_type": "execute_result",
          "data": {
            "text/plain": [
              "<Figure size 1080x720 with 0 Axes>"
            ]
          },
          "metadata": {},
          "execution_count": 126
        },
        {
          "output_type": "display_data",
          "data": {
            "text/plain": [
              "<Figure size 432x288 with 2 Axes>"
            ],
            "image/png": "[encoded data removed]"
          },
          "metadata": {
            "needs_background": "light"
          }
        },
        {
          "output_type": "display_data",
          "data": {
            "text/plain": [
              "<Figure size 1080x720 with 0 Axes>"
            ]
          },
          "metadata": {}
        }
      ]
    },
    {
      "cell_type": "markdown",
      "source": [
        "**From the above heatmap we can conclude that variables killed and wounded are tad related to eachother as their correlation coeffient is 0.53**\n",
        "\n",
        "**Correlation analysis is usually done to see what variables are closely related to eachother and in data cleaning case, dropping those variables that are closely related with eachother**"
      ],
      "metadata": {
        "id": "VhnWLt9n_hMy"
      }
    },
    {
      "cell_type": "markdown",
      "source": [
        "Understanding the relationship using the scatter plot."
      ],
      "metadata": {
        "id": "1540SMYOMYC0"
      }
    },
    {
      "cell_type": "code",
      "source": [
        "sns.jointplot(x = 'killed', y = 'wounded', data = df,kind = 'reg')"
      ],
      "metadata": {
        "colab": {
          "base_uri": "https://localhost:8080/",
          "height": 459
        },
        "id": "Y2wsIPfyQc97",
        "outputId": "2119fc51-62f0-4435-f270-800ae4106e01"
      },
      "execution_count": 100,
      "outputs": [
        {
          "output_type": "execute_result",
          "data": {
            "text/plain": [
              "<seaborn.axisgrid.JointGrid at 0x7f17cdd66390>"
            ]
          },
          "metadata": {},
          "execution_count": 100
        },
        {
          "output_type": "display_data",
          "data": {
            "text/plain": [
              "<Figure size 432x432 with 3 Axes>"
            ],
            "image/png": "[encoded data removed]"
          },
          "metadata": {
            "needs_background": "light"
          }
        }
      ]
    },
    {
      "cell_type": "markdown",
      "source": [
        "**We can see that the relation between killed and wounded is a positively correlated one, meaning with the increase in kills the wounded also increase**\n",
        "\n",
        "**There are a few outliers but most of the distribution is with the range 0 to 400 for killed and 0 to approx.1000 for wounded**"
      ],
      "metadata": {
        "id": "axINkt_6U8MY"
      }
    },
    {
      "cell_type": "markdown",
      "source": [
        "## In which year the most number of attacks took place."
      ],
      "metadata": {
        "id": "XXE4q-p9-SzH"
      }
    },
    {
      "cell_type": "code",
      "source": [
        "# Ploting a bar chart \n",
        "attacks_year_wise = df['year'].value_counts()\n",
        "attacks_year_wise.plot(kind = 'bar',color = 'Indigo')\n",
        "plt.title('year wise attacks')\n",
        "plt.xlabel('year')\n",
        "plt.ylabel('count')\n",
        "plt.rcParams['figure.figsize'] = (10, 10)"
      ],
      "metadata": {
        "colab": {
          "base_uri": "https://localhost:8080/",
          "height": 311
        },
        "id": "xy5_fjpK7hVt",
        "outputId": "2817bcbb-8d1e-4b79-8585-2e3274be19fb"
      },
      "execution_count": 127,
      "outputs": [
        {
          "output_type": "display_data",
          "data": {
            "text/plain": [
              "<Figure size 432x288 with 1 Axes>"
            ],
            "image/png": "[encoded data removed]"
          },
          "metadata": {
            "needs_background": "light"
          }
        }
      ]
    },
    {
      "cell_type": "markdown",
      "source": [
        " **The most number of attacks took place in the year 2014.**\n"
      ],
      "metadata": {
        "id": "QCt2ZOb_Cbvo"
      }
    },
    {
      "cell_type": "markdown",
      "source": [
        "## In which month the most number of attacks took place."
      ],
      "metadata": {
        "id": "GNAFsEBsAReX"
      }
    },
    {
      "cell_type": "markdown",
      "source": [
        "My Hypotesis - Attacks will take place usually in the festive season."
      ],
      "metadata": {
        "id": "hA7YVdwZPVWS"
      }
    },
    {
      "cell_type": "code",
      "source": [
        "# Plotting a line graph to check if my hypotesis is true or false.\n",
        "df.groupby('month')['day'].count().plot()\n",
        "x = [0,1,2,3,4,5,6,7,8,9,10,11,12]\n",
        "labels = ['NA','Jan','Feb','Mar','Apr','May','June','July','Aug','Sept','Oct','Nov','Dec']\n",
        "plt.xticks(x, labels)                 # Using the ticks function to rename x-axis values as months from numbers\n",
        "plt.ylabel('count of attacks')\n",
        "plt.title('Month wise attacks')"
      ],
      "metadata": {
        "colab": {
          "base_uri": "https://localhost:8080/",
          "height": 639
        },
        "id": "Z_mqmMtSDYWU",
        "outputId": "f48e1469-2476-4c3c-ed6a-422c3a7ddf72"
      },
      "execution_count": 130,
      "outputs": [
        {
          "output_type": "execute_result",
          "data": {
            "text/plain": [
              "Text(0.5, 1.0, 'Month wise attacks')"
            ]
          },
          "metadata": {},
          "execution_count": 130
        },
        {
          "output_type": "display_data",
          "data": {
            "text/plain": [
              "<Figure size 720x720 with 1 Axes>"
            ],
            "image/png": "[encoded data removed]"
          },
          "metadata": {
            "needs_background": "light"
          }
        }
      ]
    },
    {
      "cell_type": "markdown",
      "source": [
        "**From the above line graph we can say that my hypothesis is false. The number of attacks are constant through out the year.**"
      ],
      "metadata": {
        "id": "uL7v6qzEUPiQ"
      }
    },
    {
      "cell_type": "markdown",
      "source": [
        "## In which country the most number of attacks has taken place."
      ],
      "metadata": {
        "id": "3T5lzz4gUpxY"
      }
    },
    {
      "cell_type": "markdown",
      "source": [
        "My Hypotesis - It must be Syria(I hear all the time in the news regarding the terror attacks that took place in syria)."
      ],
      "metadata": {
        "id": "goO5kgRcVl7W"
      }
    },
    {
      "cell_type": "code",
      "source": [
        "# Top 10 most terrorized countries\n",
        "most_terrorized_country = df.groupby('country',as_index = True).agg({'day':'count'}).rename(columns = {'day':'no of attacks'}).sort_values('no of attacks',ascending = False).head(10)"
      ],
      "metadata": {
        "id": "UnXbRtAYUEf0"
      },
      "execution_count": 131,
      "outputs": []
    },
    {
      "cell_type": "code",
      "source": [
        "# Ploting a bar chart\n",
        "most_terrorized_country.plot(kind = 'bar', color = 'red')\n",
        "plt.title('count of country wise attacks')\n",
        "plt.xlabel('country')\n",
        "plt.ylabel('no of attacks')\n",
        "plt.rcParams['figure.figsize'] = (20, 5)"
      ],
      "metadata": {
        "colab": {
          "base_uri": "https://localhost:8080/",
          "height": 692
        },
        "id": "skfHL9RVjgvA",
        "outputId": "b803eb11-8ce4-4b67-dc2a-67d0bd466022"
      },
      "execution_count": 132,
      "outputs": [
        {
          "output_type": "display_data",
          "data": {
            "text/plain": [
              "<Figure size 720x720 with 1 Axes>"
            ],
            "image/png": "[encoded data removed]"
          },
          "metadata": {
            "needs_background": "light"
          }
        }
      ]
    },
    {
      "cell_type": "markdown",
      "source": [
        "**My hypotesis is wrong again, Iraq is the most terrorized country.**"
      ],
      "metadata": {
        "id": "2mmUEyOQlaPU"
      }
    },
    {
      "cell_type": "markdown",
      "source": [
        "## let us see the distribution of killed and wounded grouped by countries using a **Box Plot**"
      ],
      "metadata": {
        "id": "PmxcxDtpl4w2"
      }
    },
    {
      "cell_type": "code",
      "source": [
        "# Total killed and wounded as per the countires\n",
        "top_killed_wounded_distribution = df.groupby('country').agg({'killed':'sum','wounded':'sum'}).sort_values(['killed','wounded'],ascending = [False,False]).head(10)"
      ],
      "metadata": {
        "id": "OZSdTlUBttTa"
      },
      "execution_count": 133,
      "outputs": []
    },
    {
      "cell_type": "code",
      "source": [
        "top_killed_wounded_distribution.plot(kind = 'box')\n",
        "plt.title('Distribution of killed and wounded in the top 10 killings and wounded countries')\n",
        "plt.ylabel('sum of killings and wounded')"
      ],
      "metadata": {
        "colab": {
          "base_uri": "https://localhost:8080/",
          "height": 354
        },
        "id": "yDvVWhAcsuzk",
        "outputId": "2ef6702a-1e58-4477-cfb5-a9bff8c50560"
      },
      "execution_count": 134,
      "outputs": [
        {
          "output_type": "execute_result",
          "data": {
            "text/plain": [
              "Text(0, 0.5, 'sum of killings and wounded')"
            ]
          },
          "metadata": {},
          "execution_count": 134
        },
        {
          "output_type": "display_data",
          "data": {
            "text/plain": [
              "<Figure size 1440x360 with 1 Axes>"
            ],
            "image/png": "[encoded data removed]"
          },
          "metadata": {
            "needs_background": "light"
          }
        }
      ]
    },
    {
      "cell_type": "markdown",
      "source": [
        "**The median for both the killed and wounded are the same and also the killed column has 2 outliers but the wounded has only one outlier.**\n",
        "\n",
        "**The one outlier in the wounded colum is far from the median of wounded column whereas the outliers of the killed column are relatively much closer to the median of the killed.**"
      ],
      "metadata": {
        "id": "CKi1pO4jvmAO"
      }
    },
    {
      "cell_type": "markdown",
      "source": [
        "## Terrorist Attacks by Region"
      ],
      "metadata": {
        "id": "dCi6uRv963E2"
      }
    },
    {
      "cell_type": "markdown",
      "source": [
        "My Hypotesis - Middle East and North Africa region probably might have the most number of terror attacks"
      ],
      "metadata": {
        "id": "-gsbnkQ77eKo"
      }
    },
    {
      "cell_type": "code",
      "source": [
        "# Plotting terror attacks as per the region\n",
        "pd.crosstab(df.year, df.region).plot(kind='area',figsize=(15,6))\n",
        "plt.title('Terrorist attacks by Region in each Year')\n",
        "plt.ylabel('Number of Attacks')"
      ],
      "metadata": {
        "colab": {
          "base_uri": "https://localhost:8080/",
          "height": 422
        },
        "id": "AjiSwTs162Qb",
        "outputId": "123a0ed7-77f1-4a88-a32f-5e1bf6e12e16"
      },
      "execution_count": 135,
      "outputs": [
        {
          "output_type": "execute_result",
          "data": {
            "text/plain": [
              "Text(0, 0.5, 'Number of Attacks')"
            ]
          },
          "metadata": {},
          "execution_count": 135
        },
        {
          "output_type": "display_data",
          "data": {
            "text/plain": [
              "<Figure size 1080x432 with 1 Axes>"
            ],
            "image/png": "[encoded data removed]"
          },
          "metadata": {
            "needs_background": "light"
          }
        }
      ]
    },
    {
      "cell_type": "markdown",
      "source": [
        "**Yayy!! my Hypotesis is sort of true**\n",
        "\n",
        "**From the above area chart/graph we can see that middle east and north africa have to most number of terror attacks**\n"
      ],
      "metadata": {
        "id": "lUsezYdn78d7"
      }
    },
    {
      "cell_type": "markdown",
      "source": [
        "# In-Deapth analysis of Terorrism in Iraq, the country with the most number of attacks, and Terrorism in India."
      ],
      "metadata": {
        "id": "KoV6j12k2Xxz"
      }
    },
    {
      "cell_type": "code",
      "source": [
        "iraq_df = df[df['country'] == 'Iraq']\n",
        "iraq_df = iraq_df[~iraq_df.isnull()]\n",
        "india_df = df[(df['country'] == 'India') & (df['city'] != 'Unknown')]"
      ],
      "metadata": {
        "id": "FCtkDemcnM4J"
      },
      "execution_count": 136,
      "outputs": []
    },
    {
      "cell_type": "markdown",
      "source": [
        "## Lets see in which regions attacks took place the most."
      ],
      "metadata": {
        "id": "3cyoX3wA31vw"
      }
    },
    {
      "cell_type": "markdown",
      "source": [
        "My Hypothesis - Srinager is the most jeopardize in india"
      ],
      "metadata": {
        "id": "o3JAYUpyYnKw"
      }
    },
    {
      "cell_type": "code",
      "source": [
        "iraq_df.head()"
      ],
      "metadata": {
        "colab": {
          "base_uri": "https://localhost:8080/",
          "height": 530
        },
        "id": "XZH1dB043hf5",
        "outputId": "92b0a13c-925f-4f58-dda6-ad300f33451d"
      },
      "execution_count": 137,
      "outputs": [
        {
          "output_type": "execute_result",
          "data": {
            "text/plain": [
              "      year  month  day  extended country                      region     city  \\\n",
              "2854  1975      3    1         0    Iraq  Middle East & North Africa    Mosul   \n",
              "4385  1976     12   15         0    Iraq  Middle East & North Africa  Baghdad   \n",
              "4393  1976     12   18         1    Iraq  Middle East & North Africa  Penjwon   \n",
              "4402  1976     12   24         0    Iraq  Middle East & North Africa  Baghdad   \n",
              "8688  1979      6   15         0    Iraq  Middle East & North Africa    Basra   \n",
              "\n",
              "       latitude  longitude  success  suicide                  attack_type  \\\n",
              "2854  36.354145  43.143570        1        0                    Hijacking   \n",
              "4385  33.303566  44.371773        1        0            Bombing/Explosion   \n",
              "4393        NaN        NaN        1        0  Hostage Taking (Kidnapping)   \n",
              "4402  33.303566  44.371773        1        0                Assassination   \n",
              "8688  30.510054  47.778095        1        0                Assassination   \n",
              "\n",
              "                       target                         organisation   motive  \\\n",
              "2854      Airports & Aircraft                              Unknown  Unknown   \n",
              "4385      Airports & Aircraft                              Unknown  Unknown   \n",
              "4393     Government (General)  Kurdish Democratic Party-Iraq (KDP)  Unknown   \n",
              "4402  Violent Political Party                              Unknown  Unknown   \n",
              "8688     Government (General)                              Unknown  Unknown   \n",
              "\n",
              "     weapon_type  killed  wounded  \n",
              "2854     Unknown     0.0      1.0  \n",
              "4385  Explosives    10.0    285.0  \n",
              "4393     Unknown     0.0      0.0  \n",
              "4402    Firearms     2.0      0.0  \n",
              "8688     Unknown     1.0      0.0  "
            ],
            "text/html": [
              "\n",
              "  <div id=\"df-5641adf9-15f9-4861-bdcc-8f20407f6dc0\">\n",
              "    <div class=\"colab-df-container\">\n",
              "      <div>\n",
              "<style scoped>\n",
              "    .dataframe tbody tr th:only-of-type {\n",
              "        vertical-align: middle;\n",
              "    }\n",
              "\n",
              "    .dataframe tbody tr th {\n",
              "        vertical-align: top;\n",
              "    }\n",
              "\n",
              "    .dataframe thead th {\n",
              "        text-align: right;\n",
              "    }\n",
              "</style>\n",
              "<table border=\"1\" class=\"dataframe\">\n",
              "  <thead>\n",
              "    <tr style=\"text-align: right;\">\n",
              "      <th></th>\n",
              "      <th>year</th>\n",
              "      <th>month</th>\n",
              "      <th>day</th>\n",
              "      <th>extended</th>\n",
              "      <th>country</th>\n",
              "      <th>region</th>\n",
              "      <th>city</th>\n",
              "      <th>latitude</th>\n",
              "      <th>longitude</th>\n",
              "      <th>success</th>\n",
              "      <th>suicide</th>\n",
              "      <th>attack_type</th>\n",
              "      <th>target</th>\n",
              "      <th>organisation</th>\n",
              "      <th>motive</th>\n",
              "      <th>weapon_type</th>\n",
              "      <th>killed</th>\n",
              "      <th>wounded</th>\n",
              "    </tr>\n",
              "  </thead>\n",
              "  <tbody>\n",
              "    <tr>\n",
              "      <th>2854</th>\n",
              "      <td>1975</td>\n",
              "      <td>3</td>\n",
              "      <td>1</td>\n",
              "      <td>0</td>\n",
              "      <td>Iraq</td>\n",
              "      <td>Middle East &amp; North Africa</td>\n",
              "      <td>Mosul</td>\n",
              "      <td>36.354145</td>\n",
              "      <td>43.143570</td>\n",
              "      <td>1</td>\n",
              "      <td>0</td>\n",
              "      <td>Hijacking</td>\n",
              "      <td>Airports &amp; Aircraft</td>\n",
              "      <td>Unknown</td>\n",
              "      <td>Unknown</td>\n",
              "      <td>Unknown</td>\n",
              "      <td>0.0</td>\n",
              "      <td>1.0</td>\n",
              "    </tr>\n",
              "    <tr>\n",
              "      <th>4385</th>\n",
              "      <td>1976</td>\n",
              "      <td>12</td>\n",
              "      <td>15</td>\n",
              "      <td>0</td>\n",
              "      <td>Iraq</td>\n",
              "      <td>Middle East &amp; North Africa</td>\n",
              "      <td>Baghdad</td>\n",
              "      <td>33.303566</td>\n",
              "      <td>44.371773</td>\n",
              "      <td>1</td>\n",
              "      <td>0</td>\n",
              "      <td>Bombing/Explosion</td>\n",
              "      <td>Airports &amp; Aircraft</td>\n",
              "      <td>Unknown</td>\n",
              "      <td>Unknown</td>\n",
              "      <td>Explosives</td>\n",
              "      <td>10.0</td>\n",
              "      <td>285.0</td>\n",
              "    </tr>\n",
              "    <tr>\n",
              "      <th>4393</th>\n",
              "      <td>1976</td>\n",
              "      <td>12</td>\n",
              "      <td>18</td>\n",
              "      <td>1</td>\n",
              "      <td>Iraq</td>\n",
              "      <td>Middle East &amp; North Africa</td>\n",
              "      <td>Penjwon</td>\n",
              "      <td>NaN</td>\n",
              "      <td>NaN</td>\n",
              "      <td>1</td>\n",
              "      <td>0</td>\n",
              "      <td>Hostage Taking (Kidnapping)</td>\n",
              "      <td>Government (General)</td>\n",
              "      <td>Kurdish Democratic Party-Iraq (KDP)</td>\n",
              "      <td>Unknown</td>\n",
              "      <td>Unknown</td>\n",
              "      <td>0.0</td>\n",
              "      <td>0.0</td>\n",
              "    </tr>\n",
              "    <tr>\n",
              "      <th>4402</th>\n",
              "      <td>1976</td>\n",
              "      <td>12</td>\n",
              "      <td>24</td>\n",
              "      <td>0</td>\n",
              "      <td>Iraq</td>\n",
              "      <td>Middle East &amp; North Africa</td>\n",
              "      <td>Baghdad</td>\n",
              "      <td>33.303566</td>\n",
              "      <td>44.371773</td>\n",
              "      <td>1</td>\n",
              "      <td>0</td>\n",
              "      <td>Assassination</td>\n",
              "      <td>Violent Political Party</td>\n",
              "      <td>Unknown</td>\n",
              "      <td>Unknown</td>\n",
              "      <td>Firearms</td>\n",
              "      <td>2.0</td>\n",
              "      <td>0.0</td>\n",
              "    </tr>\n",
              "    <tr>\n",
              "      <th>8688</th>\n",
              "      <td>1979</td>\n",
              "      <td>6</td>\n",
              "      <td>15</td>\n",
              "      <td>0</td>\n",
              "      <td>Iraq</td>\n",
              "      <td>Middle East &amp; North Africa</td>\n",
              "      <td>Basra</td>\n",
              "      <td>30.510054</td>\n",
              "      <td>47.778095</td>\n",
              "      <td>1</td>\n",
              "      <td>0</td>\n",
              "      <td>Assassination</td>\n",
              "      <td>Government (General)</td>\n",
              "      <td>Unknown</td>\n",
              "      <td>Unknown</td>\n",
              "      <td>Unknown</td>\n",
              "      <td>1.0</td>\n",
              "      <td>0.0</td>\n",
              "    </tr>\n",
              "  </tbody>\n",
              "</table>\n",
              "</div>\n",
              "      <button class=\"colab-df-convert\" onclick=\"convertToInteractive('df-5641adf9-15f9-4861-bdcc-8f20407f6dc0')\"\n",
              "              title=\"Convert this dataframe to an interactive table.\"\n",
              "              style=\"display:none;\">\n",
              "        \n",
              "  <svg xmlns=\"http://www.w3.org/2000/svg\" height=\"24px\"viewBox=\"0 0 24 24\"\n",
              "       width=\"24px\">\n",
              "    <path d=\"M0 0h24v24H0V0z\" fill=\"none\"/>\n",
              "    <path d=\"M18.56 5.44l.94 2.06.94-2.06 2.06-.94-2.06-.94-.94-2.06-.94 2.06-2.06.94zm-11 1L8.5 8.5l.94-2.06 2.06-.94-2.06-.94L8.5 2.5l-.94 2.06-2.06.94zm10 10l.94 2.06.94-2.06 2.06-.94-2.06-.94-.94-2.06-.94 2.06-2.06.94z\"/><path d=\"M17.41 7.96l-1.37-1.37c-.4-.4-.92-.59-1.43-.59-.52 0-1.04.2-1.43.59L10.3 9.45l-7.72 7.72c-.78.78-.78 2.05 0 2.83L4 21.41c.39.39.9.59 1.41.59.51 0 1.02-.2 1.41-.59l7.78-7.78 2.81-2.81c.8-.78.8-2.07 0-2.86zM5.41 20L4 18.59l7.72-7.72 1.47 1.35L5.41 20z\"/>\n",
              "  </svg>\n",
              "      </button>\n",
              "      \n",
              "  <style>\n",
              "    .colab-df-container {\n",
              "      display:flex;\n",
              "      flex-wrap:wrap;\n",
              "      gap: 12px;\n",
              "    }\n",
              "\n",
              "    .colab-df-convert {\n",
              "      background-color: #E8F0FE;\n",
              "      border: none;\n",
              "      border-radius: 50%;\n",
              "      cursor: pointer;\n",
              "      display: none;\n",
              "      fill: #1967D2;\n",
              "      height: 32px;\n",
              "      padding: 0 0 0 0;\n",
              "      width: 32px;\n",
              "    }\n",
              "\n",
              "    .colab-df-convert:hover {\n",
              "      background-color: #E2EBFA;\n",
              "      box-shadow: 0px 1px 2px rgba(60, 64, 67, 0.3), 0px 1px 3px 1px rgba(60, 64, 67, 0.15);\n",
              "      fill: #174EA6;\n",
              "    }\n",
              "\n",
              "    [theme=dark] .colab-df-convert {\n",
              "      background-color: #3B4455;\n",
              "      fill: #D2E3FC;\n",
              "    }\n",
              "\n",
              "    [theme=dark] .colab-df-convert:hover {\n",
              "      background-color: #434B5C;\n",
              "      box-shadow: 0px 1px 3px 1px rgba(0, 0, 0, 0.15);\n",
              "      filter: drop-shadow(0px 1px 2px rgba(0, 0, 0, 0.3));\n",
              "      fill: #FFFFFF;\n",
              "    }\n",
              "  </style>\n",
              "\n",
              "      <script>\n",
              "        const buttonEl =\n",
              "          document.querySelector('#df-5641adf9-15f9-4861-bdcc-8f20407f6dc0 button.colab-df-convert');\n",
              "        buttonEl.style.display =\n",
              "          google.colab.kernel.accessAllowed ? 'block' : 'none';\n",
              "\n",
              "        async function convertToInteractive(key) {\n",
              "          const element = document.querySelector('#df-5641adf9-15f9-4861-bdcc-8f20407f6dc0');\n",
              "          const dataTable =\n",
              "            await google.colab.kernel.invokeFunction('convertToInteractive',\n",
              "                                                     [key], {});\n",
              "          if (!dataTable) return;\n",
              "\n",
              "          const docLinkHtml = 'Like what you see? Visit the ' +\n",
              "            '<a target=\"_blank\" href=https://colab.research.google.com/notebooks/data_table.ipynb>data table notebook</a>'\n",
              "            + ' to learn more about interactive tables.';\n",
              "          element.innerHTML = '';\n",
              "          dataTable['output_type'] = 'display_data';\n",
              "          await google.colab.output.renderOutput(dataTable, element);\n",
              "          const docLink = document.createElement('div');\n",
              "          docLink.innerHTML = docLinkHtml;\n",
              "          element.appendChild(docLink);\n",
              "        }\n",
              "      </script>\n",
              "    </div>\n",
              "  </div>\n",
              "  "
            ]
          },
          "metadata": {},
          "execution_count": 137
        }
      ]
    },
    {
      "cell_type": "code",
      "source": [
        "india_df.head()"
      ],
      "metadata": {
        "colab": {
          "base_uri": "https://localhost:8080/",
          "height": 357
        },
        "id": "xfnF7gzvR8Nx",
        "outputId": "63da7ee7-8e24-46d1-bc70-82e91efd0c3f"
      },
      "execution_count": 138,
      "outputs": [
        {
          "output_type": "execute_result",
          "data": {
            "text/plain": [
              "      year  month  day  extended country      region        city   latitude  \\\n",
              "1186  1972      2   22         0   India  South Asia   New Delhi  28.585836   \n",
              "2764  1975      1    2         0   India  South Asia  Samastipur  25.863042   \n",
              "3857  1976      5   26         0   India  South Asia   New Delhi  28.585836   \n",
              "5327  1977      9   28         0   India  South Asia      Bombay  19.075984   \n",
              "7342  1979      1   14         0   India  South Asia      Imphal  24.798346   \n",
              "\n",
              "      longitude  success  suicide        attack_type                target  \\\n",
              "1186  77.153336        1        0          Hijacking   Airports & Aircraft   \n",
              "2764  85.781004        1        0  Bombing/Explosion  Government (General)   \n",
              "3857  77.153336        1        0  Bombing/Explosion   Airports & Aircraft   \n",
              "5327  72.877656        1        0          Hijacking   Airports & Aircraft   \n",
              "7342  93.940430        1        0      Assassination  Government (General)   \n",
              "\n",
              "                 organisation   motive weapon_type  killed  wounded  \n",
              "1186             Palestinians  Unknown  Explosives     0.0      0.0  \n",
              "2764             Ananda Marga  Unknown  Explosives     4.0      0.0  \n",
              "3857                  Unknown  Unknown  Explosives     0.0      0.0  \n",
              "5327  Japanese Red Army (JRA)  Unknown    Firearms     0.0      0.0  \n",
              "7342                  Unknown  Unknown    Firearms     3.0      0.0  "
            ],
            "text/html": [
              "\n",
              "  <div id=\"df-0ebe242c-0323-4bf3-be6c-ed3e66d4bf27\">\n",
              "    <div class=\"colab-df-container\">\n",
              "      <div>\n",
              "<style scoped>\n",
              "    .dataframe tbody tr th:only-of-type {\n",
              "        vertical-align: middle;\n",
              "    }\n",
              "\n",
              "    .dataframe tbody tr th {\n",
              "        vertical-align: top;\n",
              "    }\n",
              "\n",
              "    .dataframe thead th {\n",
              "        text-align: right;\n",
              "    }\n",
              "</style>\n",
              "<table border=\"1\" class=\"dataframe\">\n",
              "  <thead>\n",
              "    <tr style=\"text-align: right;\">\n",
              "      <th></th>\n",
              "      <th>year</th>\n",
              "      <th>month</th>\n",
              "      <th>day</th>\n",
              "      <th>extended</th>\n",
              "      <th>country</th>\n",
              "      <th>region</th>\n",
              "      <th>city</th>\n",
              "      <th>latitude</th>\n",
              "      <th>longitude</th>\n",
              "      <th>success</th>\n",
              "      <th>suicide</th>\n",
              "      <th>attack_type</th>\n",
              "      <th>target</th>\n",
              "      <th>organisation</th>\n",
              "      <th>motive</th>\n",
              "      <th>weapon_type</th>\n",
              "      <th>killed</th>\n",
              "      <th>wounded</th>\n",
              "    </tr>\n",
              "  </thead>\n",
              "  <tbody>\n",
              "    <tr>\n",
              "      <th>1186</th>\n",
              "      <td>1972</td>\n",
              "      <td>2</td>\n",
              "      <td>22</td>\n",
              "      <td>0</td>\n",
              "      <td>India</td>\n",
              "      <td>South Asia</td>\n",
              "      <td>New Delhi</td>\n",
              "      <td>28.585836</td>\n",
              "      <td>77.153336</td>\n",
              "      <td>1</td>\n",
              "      <td>0</td>\n",
              "      <td>Hijacking</td>\n",
              "      <td>Airports &amp; Aircraft</td>\n",
              "      <td>Palestinians</td>\n",
              "      <td>Unknown</td>\n",
              "      <td>Explosives</td>\n",
              "      <td>0.0</td>\n",
              "      <td>0.0</td>\n",
              "    </tr>\n",
              "    <tr>\n",
              "      <th>2764</th>\n",
              "      <td>1975</td>\n",
              "      <td>1</td>\n",
              "      <td>2</td>\n",
              "      <td>0</td>\n",
              "      <td>India</td>\n",
              "      <td>South Asia</td>\n",
              "      <td>Samastipur</td>\n",
              "      <td>25.863042</td>\n",
              "      <td>85.781004</td>\n",
              "      <td>1</td>\n",
              "      <td>0</td>\n",
              "      <td>Bombing/Explosion</td>\n",
              "      <td>Government (General)</td>\n",
              "      <td>Ananda Marga</td>\n",
              "      <td>Unknown</td>\n",
              "      <td>Explosives</td>\n",
              "      <td>4.0</td>\n",
              "      <td>0.0</td>\n",
              "    </tr>\n",
              "    <tr>\n",
              "      <th>3857</th>\n",
              "      <td>1976</td>\n",
              "      <td>5</td>\n",
              "      <td>26</td>\n",
              "      <td>0</td>\n",
              "      <td>India</td>\n",
              "      <td>South Asia</td>\n",
              "      <td>New Delhi</td>\n",
              "      <td>28.585836</td>\n",
              "      <td>77.153336</td>\n",
              "      <td>1</td>\n",
              "      <td>0</td>\n",
              "      <td>Bombing/Explosion</td>\n",
              "      <td>Airports &amp; Aircraft</td>\n",
              "      <td>Unknown</td>\n",
              "      <td>Unknown</td>\n",
              "      <td>Explosives</td>\n",
              "      <td>0.0</td>\n",
              "      <td>0.0</td>\n",
              "    </tr>\n",
              "    <tr>\n",
              "      <th>5327</th>\n",
              "      <td>1977</td>\n",
              "      <td>9</td>\n",
              "      <td>28</td>\n",
              "      <td>0</td>\n",
              "      <td>India</td>\n",
              "      <td>South Asia</td>\n",
              "      <td>Bombay</td>\n",
              "      <td>19.075984</td>\n",
              "      <td>72.877656</td>\n",
              "      <td>1</td>\n",
              "      <td>0</td>\n",
              "      <td>Hijacking</td>\n",
              "      <td>Airports &amp; Aircraft</td>\n",
              "      <td>Japanese Red Army (JRA)</td>\n",
              "      <td>Unknown</td>\n",
              "      <td>Firearms</td>\n",
              "      <td>0.0</td>\n",
              "      <td>0.0</td>\n",
              "    </tr>\n",
              "    <tr>\n",
              "      <th>7342</th>\n",
              "      <td>1979</td>\n",
              "      <td>1</td>\n",
              "      <td>14</td>\n",
              "      <td>0</td>\n",
              "      <td>India</td>\n",
              "      <td>South Asia</td>\n",
              "      <td>Imphal</td>\n",
              "      <td>24.798346</td>\n",
              "      <td>93.940430</td>\n",
              "      <td>1</td>\n",
              "      <td>0</td>\n",
              "      <td>Assassination</td>\n",
              "      <td>Government (General)</td>\n",
              "      <td>Unknown</td>\n",
              "      <td>Unknown</td>\n",
              "      <td>Firearms</td>\n",
              "      <td>3.0</td>\n",
              "      <td>0.0</td>\n",
              "    </tr>\n",
              "  </tbody>\n",
              "</table>\n",
              "</div>\n",
              "      <button class=\"colab-df-convert\" onclick=\"convertToInteractive('df-0ebe242c-0323-4bf3-be6c-ed3e66d4bf27')\"\n",
              "              title=\"Convert this dataframe to an interactive table.\"\n",
              "              style=\"display:none;\">\n",
              "        \n",
              "  <svg xmlns=\"http://www.w3.org/2000/svg\" height=\"24px\"viewBox=\"0 0 24 24\"\n",
              "       width=\"24px\">\n",
              "    <path d=\"M0 0h24v24H0V0z\" fill=\"none\"/>\n",
              "    <path d=\"M18.56 5.44l.94 2.06.94-2.06 2.06-.94-2.06-.94-.94-2.06-.94 2.06-2.06.94zm-11 1L8.5 8.5l.94-2.06 2.06-.94-2.06-.94L8.5 2.5l-.94 2.06-2.06.94zm10 10l.94 2.06.94-2.06 2.06-.94-2.06-.94-.94-2.06-.94 2.06-2.06.94z\"/><path d=\"M17.41 7.96l-1.37-1.37c-.4-.4-.92-.59-1.43-.59-.52 0-1.04.2-1.43.59L10.3 9.45l-7.72 7.72c-.78.78-.78 2.05 0 2.83L4 21.41c.39.39.9.59 1.41.59.51 0 1.02-.2 1.41-.59l7.78-7.78 2.81-2.81c.8-.78.8-2.07 0-2.86zM5.41 20L4 18.59l7.72-7.72 1.47 1.35L5.41 20z\"/>\n",
              "  </svg>\n",
              "      </button>\n",
              "      \n",
              "  <style>\n",
              "    .colab-df-container {\n",
              "      display:flex;\n",
              "      flex-wrap:wrap;\n",
              "      gap: 12px;\n",
              "    }\n",
              "\n",
              "    .colab-df-convert {\n",
              "      background-color: #E8F0FE;\n",
              "      border: none;\n",
              "      border-radius: 50%;\n",
              "      cursor: pointer;\n",
              "      display: none;\n",
              "      fill: #1967D2;\n",
              "      height: 32px;\n",
              "      padding: 0 0 0 0;\n",
              "      width: 32px;\n",
              "    }\n",
              "\n",
              "    .colab-df-convert:hover {\n",
              "      background-color: #E2EBFA;\n",
              "      box-shadow: 0px 1px 2px rgba(60, 64, 67, 0.3), 0px 1px 3px 1px rgba(60, 64, 67, 0.15);\n",
              "      fill: #174EA6;\n",
              "    }\n",
              "\n",
              "    [theme=dark] .colab-df-convert {\n",
              "      background-color: #3B4455;\n",
              "      fill: #D2E3FC;\n",
              "    }\n",
              "\n",
              "    [theme=dark] .colab-df-convert:hover {\n",
              "      background-color: #434B5C;\n",
              "      box-shadow: 0px 1px 3px 1px rgba(0, 0, 0, 0.15);\n",
              "      filter: drop-shadow(0px 1px 2px rgba(0, 0, 0, 0.3));\n",
              "      fill: #FFFFFF;\n",
              "    }\n",
              "  </style>\n",
              "\n",
              "      <script>\n",
              "        const buttonEl =\n",
              "          document.querySelector('#df-0ebe242c-0323-4bf3-be6c-ed3e66d4bf27 button.colab-df-convert');\n",
              "        buttonEl.style.display =\n",
              "          google.colab.kernel.accessAllowed ? 'block' : 'none';\n",
              "\n",
              "        async function convertToInteractive(key) {\n",
              "          const element = document.querySelector('#df-0ebe242c-0323-4bf3-be6c-ed3e66d4bf27');\n",
              "          const dataTable =\n",
              "            await google.colab.kernel.invokeFunction('convertToInteractive',\n",
              "                                                     [key], {});\n",
              "          if (!dataTable) return;\n",
              "\n",
              "          const docLinkHtml = 'Like what you see? Visit the ' +\n",
              "            '<a target=\"_blank\" href=https://colab.research.google.com/notebooks/data_table.ipynb>data table notebook</a>'\n",
              "            + ' to learn more about interactive tables.';\n",
              "          element.innerHTML = '';\n",
              "          dataTable['output_type'] = 'display_data';\n",
              "          await google.colab.output.renderOutput(dataTable, element);\n",
              "          const docLink = document.createElement('div');\n",
              "          docLink.innerHTML = docLinkHtml;\n",
              "          element.appendChild(docLink);\n",
              "        }\n",
              "      </script>\n",
              "    </div>\n",
              "  </div>\n",
              "  "
            ]
          },
          "metadata": {},
          "execution_count": 138
        }
      ]
    },
    {
      "cell_type": "code",
      "source": [
        "# Top 5 iraq cities that were attacked the most.\n",
        "iraq_top_targetted_cities = iraq_df.groupby('city').agg({'day':'count'}).rename(columns = {'day':'attacks'}).sort_values('attacks',ascending = False).head(5)\n",
        "india_top_targetted_cities = india_df.groupby('city').agg({'day':'count'}).rename(columns = {'day':'attacks'}).sort_values('attacks',ascending = False).head(5)"
      ],
      "metadata": {
        "id": "ZI366DuA4NrT"
      },
      "execution_count": 139,
      "outputs": []
    },
    {
      "cell_type": "code",
      "source": [
        "# Concadinating both the dataframes so that I can make an easy comparison among those two countries.\n",
        "india_iraq_df = pd.concat([india_top_targetted_cities,iraq_top_targetted_cities],axis = 1)"
      ],
      "metadata": {
        "id": "_f24IdI5SPDm"
      },
      "execution_count": 140,
      "outputs": []
    },
    {
      "cell_type": "code",
      "source": [
        "# Ploting them in a Basic Bar Graph.\n",
        "india_iraq_df.plot(kind = 'bar',color = ['Blue','Red'])\n",
        "plt.legend(['India','Iraq'])\n",
        "plt.title('top 5 most dangerous cities of both the countries')\n",
        "plt.xlabel('cities of countries')\n",
        "plt.ylabel('total number of attacks')\n"
      ],
      "metadata": {
        "colab": {
          "base_uri": "https://localhost:8080/",
          "height": 409
        },
        "id": "cE-QxcBvSWxv",
        "outputId": "120a1703-93d2-4f4f-8aa9-a4dca626585a"
      },
      "execution_count": 141,
      "outputs": [
        {
          "output_type": "execute_result",
          "data": {
            "text/plain": [
              "Text(0, 0.5, 'total number of attacks')"
            ]
          },
          "metadata": {},
          "execution_count": 141
        },
        {
          "output_type": "display_data",
          "data": {
            "text/plain": [
              "<Figure size 1440x360 with 1 Axes>"
            ],
            "image/png": "[encoded data removed]"
          },
          "metadata": {
            "needs_background": "light"
          }
        }
      ]
    },
    {
      "cell_type": "markdown",
      "source": [
        "**My Hypothesis is True**\n",
        "\n",
        "**When amount of threat faced by Iraq is way more than the threat faced by india**\n",
        "\n",
        "**From this analysis we can safely conclude that India counters terror better than Iraq**"
      ],
      "metadata": {
        "id": "2TOpm43yXxAf"
      }
    },
    {
      "cell_type": "markdown",
      "source": [
        "## The type of attack that took place."
      ],
      "metadata": {
        "id": "Pv1BERpaZu-t"
      }
    },
    {
      "cell_type": "code",
      "source": [
        "india_df.head()"
      ],
      "metadata": {
        "colab": {
          "base_uri": "https://localhost:8080/",
          "height": 357
        },
        "id": "ZdbJojZvTXSS",
        "outputId": "cb12dfe3-22dd-4579-f27a-ff82d1173bf8"
      },
      "execution_count": 142,
      "outputs": [
        {
          "output_type": "execute_result",
          "data": {
            "text/plain": [
              "      year  month  day  extended country      region        city   latitude  \\\n",
              "1186  1972      2   22         0   India  South Asia   New Delhi  28.585836   \n",
              "2764  1975      1    2         0   India  South Asia  Samastipur  25.863042   \n",
              "3857  1976      5   26         0   India  South Asia   New Delhi  28.585836   \n",
              "5327  1977      9   28         0   India  South Asia      Bombay  19.075984   \n",
              "7342  1979      1   14         0   India  South Asia      Imphal  24.798346   \n",
              "\n",
              "      longitude  success  suicide        attack_type                target  \\\n",
              "1186  77.153336        1        0          Hijacking   Airports & Aircraft   \n",
              "2764  85.781004        1        0  Bombing/Explosion  Government (General)   \n",
              "3857  77.153336        1        0  Bombing/Explosion   Airports & Aircraft   \n",
              "5327  72.877656        1        0          Hijacking   Airports & Aircraft   \n",
              "7342  93.940430        1        0      Assassination  Government (General)   \n",
              "\n",
              "                 organisation   motive weapon_type  killed  wounded  \n",
              "1186             Palestinians  Unknown  Explosives     0.0      0.0  \n",
              "2764             Ananda Marga  Unknown  Explosives     4.0      0.0  \n",
              "3857                  Unknown  Unknown  Explosives     0.0      0.0  \n",
              "5327  Japanese Red Army (JRA)  Unknown    Firearms     0.0      0.0  \n",
              "7342                  Unknown  Unknown    Firearms     3.0      0.0  "
            ],
            "text/html": [
              "\n",
              "  <div id=\"df-5ffed7f0-9022-435f-bafc-70e985714956\">\n",
              "    <div class=\"colab-df-container\">\n",
              "      <div>\n",
              "<style scoped>\n",
              "    .dataframe tbody tr th:only-of-type {\n",
              "        vertical-align: middle;\n",
              "    }\n",
              "\n",
              "    .dataframe tbody tr th {\n",
              "        vertical-align: top;\n",
              "    }\n",
              "\n",
              "    .dataframe thead th {\n",
              "        text-align: right;\n",
              "    }\n",
              "</style>\n",
              "<table border=\"1\" class=\"dataframe\">\n",
              "  <thead>\n",
              "    <tr style=\"text-align: right;\">\n",
              "      <th></th>\n",
              "      <th>year</th>\n",
              "      <th>month</th>\n",
              "      <th>day</th>\n",
              "      <th>extended</th>\n",
              "      <th>country</th>\n",
              "      <th>region</th>\n",
              "      <th>city</th>\n",
              "      <th>latitude</th>\n",
              "      <th>longitude</th>\n",
              "      <th>success</th>\n",
              "      <th>suicide</th>\n",
              "      <th>attack_type</th>\n",
              "      <th>target</th>\n",
              "      <th>organisation</th>\n",
              "      <th>motive</th>\n",
              "      <th>weapon_type</th>\n",
              "      <th>killed</th>\n",
              "      <th>wounded</th>\n",
              "    </tr>\n",
              "  </thead>\n",
              "  <tbody>\n",
              "    <tr>\n",
              "      <th>1186</th>\n",
              "      <td>1972</td>\n",
              "      <td>2</td>\n",
              "      <td>22</td>\n",
              "      <td>0</td>\n",
              "      <td>India</td>\n",
              "      <td>South Asia</td>\n",
              "      <td>New Delhi</td>\n",
              "      <td>28.585836</td>\n",
              "      <td>77.153336</td>\n",
              "      <td>1</td>\n",
              "      <td>0</td>\n",
              "      <td>Hijacking</td>\n",
              "      <td>Airports &amp; Aircraft</td>\n",
              "      <td>Palestinians</td>\n",
              "      <td>Unknown</td>\n",
              "      <td>Explosives</td>\n",
              "      <td>0.0</td>\n",
              "      <td>0.0</td>\n",
              "    </tr>\n",
              "    <tr>\n",
              "      <th>2764</th>\n",
              "      <td>1975</td>\n",
              "      <td>1</td>\n",
              "      <td>2</td>\n",
              "      <td>0</td>\n",
              "      <td>India</td>\n",
              "      <td>South Asia</td>\n",
              "      <td>Samastipur</td>\n",
              "      <td>25.863042</td>\n",
              "      <td>85.781004</td>\n",
              "      <td>1</td>\n",
              "      <td>0</td>\n",
              "      <td>Bombing/Explosion</td>\n",
              "      <td>Government (General)</td>\n",
              "      <td>Ananda Marga</td>\n",
              "      <td>Unknown</td>\n",
              "      <td>Explosives</td>\n",
              "      <td>4.0</td>\n",
              "      <td>0.0</td>\n",
              "    </tr>\n",
              "    <tr>\n",
              "      <th>3857</th>\n",
              "      <td>1976</td>\n",
              "      <td>5</td>\n",
              "      <td>26</td>\n",
              "      <td>0</td>\n",
              "      <td>India</td>\n",
              "      <td>South Asia</td>\n",
              "      <td>New Delhi</td>\n",
              "      <td>28.585836</td>\n",
              "      <td>77.153336</td>\n",
              "      <td>1</td>\n",
              "      <td>0</td>\n",
              "      <td>Bombing/Explosion</td>\n",
              "      <td>Airports &amp; Aircraft</td>\n",
              "      <td>Unknown</td>\n",
              "      <td>Unknown</td>\n",
              "      <td>Explosives</td>\n",
              "      <td>0.0</td>\n",
              "      <td>0.0</td>\n",
              "    </tr>\n",
              "    <tr>\n",
              "      <th>5327</th>\n",
              "      <td>1977</td>\n",
              "      <td>9</td>\n",
              "      <td>28</td>\n",
              "      <td>0</td>\n",
              "      <td>India</td>\n",
              "      <td>South Asia</td>\n",
              "      <td>Bombay</td>\n",
              "      <td>19.075984</td>\n",
              "      <td>72.877656</td>\n",
              "      <td>1</td>\n",
              "      <td>0</td>\n",
              "      <td>Hijacking</td>\n",
              "      <td>Airports &amp; Aircraft</td>\n",
              "      <td>Japanese Red Army (JRA)</td>\n",
              "      <td>Unknown</td>\n",
              "      <td>Firearms</td>\n",
              "      <td>0.0</td>\n",
              "      <td>0.0</td>\n",
              "    </tr>\n",
              "    <tr>\n",
              "      <th>7342</th>\n",
              "      <td>1979</td>\n",
              "      <td>1</td>\n",
              "      <td>14</td>\n",
              "      <td>0</td>\n",
              "      <td>India</td>\n",
              "      <td>South Asia</td>\n",
              "      <td>Imphal</td>\n",
              "      <td>24.798346</td>\n",
              "      <td>93.940430</td>\n",
              "      <td>1</td>\n",
              "      <td>0</td>\n",
              "      <td>Assassination</td>\n",
              "      <td>Government (General)</td>\n",
              "      <td>Unknown</td>\n",
              "      <td>Unknown</td>\n",
              "      <td>Firearms</td>\n",
              "      <td>3.0</td>\n",
              "      <td>0.0</td>\n",
              "    </tr>\n",
              "  </tbody>\n",
              "</table>\n",
              "</div>\n",
              "      <button class=\"colab-df-convert\" onclick=\"convertToInteractive('df-5ffed7f0-9022-435f-bafc-70e985714956')\"\n",
              "              title=\"Convert this dataframe to an interactive table.\"\n",
              "              style=\"display:none;\">\n",
              "        \n",
              "  <svg xmlns=\"http://www.w3.org/2000/svg\" height=\"24px\"viewBox=\"0 0 24 24\"\n",
              "       width=\"24px\">\n",
              "    <path d=\"M0 0h24v24H0V0z\" fill=\"none\"/>\n",
              "    <path d=\"M18.56 5.44l.94 2.06.94-2.06 2.06-.94-2.06-.94-.94-2.06-.94 2.06-2.06.94zm-11 1L8.5 8.5l.94-2.06 2.06-.94-2.06-.94L8.5 2.5l-.94 2.06-2.06.94zm10 10l.94 2.06.94-2.06 2.06-.94-2.06-.94-.94-2.06-.94 2.06-2.06.94z\"/><path d=\"M17.41 7.96l-1.37-1.37c-.4-.4-.92-.59-1.43-.59-.52 0-1.04.2-1.43.59L10.3 9.45l-7.72 7.72c-.78.78-.78 2.05 0 2.83L4 21.41c.39.39.9.59 1.41.59.51 0 1.02-.2 1.41-.59l7.78-7.78 2.81-2.81c.8-.78.8-2.07 0-2.86zM5.41 20L4 18.59l7.72-7.72 1.47 1.35L5.41 20z\"/>\n",
              "  </svg>\n",
              "      </button>\n",
              "      \n",
              "  <style>\n",
              "    .colab-df-container {\n",
              "      display:flex;\n",
              "      flex-wrap:wrap;\n",
              "      gap: 12px;\n",
              "    }\n",
              "\n",
              "    .colab-df-convert {\n",
              "      background-color: #E8F0FE;\n",
              "      border: none;\n",
              "      border-radius: 50%;\n",
              "      cursor: pointer;\n",
              "      display: none;\n",
              "      fill: #1967D2;\n",
              "      height: 32px;\n",
              "      padding: 0 0 0 0;\n",
              "      width: 32px;\n",
              "    }\n",
              "\n",
              "    .colab-df-convert:hover {\n",
              "      background-color: #E2EBFA;\n",
              "      box-shadow: 0px 1px 2px rgba(60, 64, 67, 0.3), 0px 1px 3px 1px rgba(60, 64, 67, 0.15);\n",
              "      fill: #174EA6;\n",
              "    }\n",
              "\n",
              "    [theme=dark] .colab-df-convert {\n",
              "      background-color: #3B4455;\n",
              "      fill: #D2E3FC;\n",
              "    }\n",
              "\n",
              "    [theme=dark] .colab-df-convert:hover {\n",
              "      background-color: #434B5C;\n",
              "      box-shadow: 0px 1px 3px 1px rgba(0, 0, 0, 0.15);\n",
              "      filter: drop-shadow(0px 1px 2px rgba(0, 0, 0, 0.3));\n",
              "      fill: #FFFFFF;\n",
              "    }\n",
              "  </style>\n",
              "\n",
              "      <script>\n",
              "        const buttonEl =\n",
              "          document.querySelector('#df-5ffed7f0-9022-435f-bafc-70e985714956 button.colab-df-convert');\n",
              "        buttonEl.style.display =\n",
              "          google.colab.kernel.accessAllowed ? 'block' : 'none';\n",
              "\n",
              "        async function convertToInteractive(key) {\n",
              "          const element = document.querySelector('#df-5ffed7f0-9022-435f-bafc-70e985714956');\n",
              "          const dataTable =\n",
              "            await google.colab.kernel.invokeFunction('convertToInteractive',\n",
              "                                                     [key], {});\n",
              "          if (!dataTable) return;\n",
              "\n",
              "          const docLinkHtml = 'Like what you see? Visit the ' +\n",
              "            '<a target=\"_blank\" href=https://colab.research.google.com/notebooks/data_table.ipynb>data table notebook</a>'\n",
              "            + ' to learn more about interactive tables.';\n",
              "          element.innerHTML = '';\n",
              "          dataTable['output_type'] = 'display_data';\n",
              "          await google.colab.output.renderOutput(dataTable, element);\n",
              "          const docLink = document.createElement('div');\n",
              "          docLink.innerHTML = docLinkHtml;\n",
              "          element.appendChild(docLink);\n",
              "        }\n",
              "      </script>\n",
              "    </div>\n",
              "  </div>\n",
              "  "
            ]
          },
          "metadata": {},
          "execution_count": 142
        }
      ]
    },
    {
      "cell_type": "code",
      "source": [
        "# Code for finding out the most common attack type used.\n",
        "india_attack_type = india_df.groupby('attack_type').agg({'day':'count'}).rename(columns = {'day':'count of attack type'}).sort_values('count of attack type',ascending = False).head(3)\n",
        "iraq_attack_type = iraq_df.groupby('attack_type').agg({'day':'count'}).rename(columns = {'day':'count of attack type'}).sort_values('count of attack type',ascending = False).head(3)"
      ],
      "metadata": {
        "id": "pbrVg-jgaccJ"
      },
      "execution_count": 143,
      "outputs": []
    },
    {
      "cell_type": "code",
      "source": [
        "# Concadinating both countries attack types.\n",
        "india_iraq_attack_type = pd.concat([india_attack_type,iraq_attack_type], axis = 1)"
      ],
      "metadata": {
        "id": "Kfht8CG5axCk"
      },
      "execution_count": 144,
      "outputs": []
    },
    {
      "cell_type": "code",
      "source": [
        "# Stacked Bar Plot.\n",
        "india_iraq_attack_type.plot(kind = 'bar', stacked = True, color = ['Blue','Red'])\n",
        "plt.legend(['India attack type','Iraq attack type'])\n",
        "plt.title('Common forms of attack seen in India & Iraq')\n",
        "plt.xlabel('attack type')\n",
        "plt.ylabel('Count of attack type')"
      ],
      "metadata": {
        "colab": {
          "base_uri": "https://localhost:8080/",
          "height": 501
        },
        "id": "ky4k_tMUc7QI",
        "outputId": "a8f389ea-3d90-4d37-a9c3-b3a8765bdf2a"
      },
      "execution_count": 145,
      "outputs": [
        {
          "output_type": "execute_result",
          "data": {
            "text/plain": [
              "Text(0, 0.5, 'Count of attack type')"
            ]
          },
          "metadata": {},
          "execution_count": 145
        },
        {
          "output_type": "display_data",
          "data": {
            "text/plain": [
              "<Figure size 1440x360 with 1 Axes>"
            ],
            "image/png": "[encoded data removed]"
          },
          "metadata": {
            "needs_background": "light"
          }
        }
      ]
    },
    {
      "cell_type": "markdown",
      "source": [
        "**Bombing/Explosion is used the most in both the countries as a form attack**\n",
        "\n",
        "**Kidnapping form of attack is only used in India and not Iraq**\n",
        "\n",
        "**Assassination is only done in Iraq**"
      ],
      "metadata": {
        "id": "YRYcNcCDesCl"
      }
    },
    {
      "cell_type": "markdown",
      "source": [
        "## What the terror organisations target the most in India and in Iraq.\n"
      ],
      "metadata": {
        "id": "F2wowGcefSns"
      }
    },
    {
      "cell_type": "code",
      "source": [
        "india_df = india_df[india_df['organisation'] != 'Unknown']\n",
        "iraq_df = iraq_df[iraq_df['organisation'] != 'Unknown']"
      ],
      "metadata": {
        "id": "vQsw2YFXc_Qj"
      },
      "execution_count": 146,
      "outputs": []
    },
    {
      "cell_type": "code",
      "source": [
        "iraq_target = iraq_df.groupby(['organisation','target'],as_index = True).agg({'day':'count'}).rename(columns = {'day':'times targeted'}).sort_values('times targeted', ascending = False).head(5)\n",
        "india_target = india_df.groupby(['organisation','target'], as_index = True).agg({'day':'count'}).rename(columns = {'day':'times targeted'}).sort_values('times targeted', ascending = False).head(5)"
      ],
      "metadata": {
        "id": "T7lXE6evf1-e"
      },
      "execution_count": 147,
      "outputs": []
    },
    {
      "cell_type": "code",
      "source": [
        "# Concatinating both the dataframes\n",
        "india_iraq_target = pd.concat([india_target,iraq_target],axis = 1)"
      ],
      "metadata": {
        "id": "IJyWYqVKgAaa"
      },
      "execution_count": 148,
      "outputs": []
    },
    {
      "cell_type": "code",
      "source": [
        "# Ploting a Graph.\n",
        "india_iraq_target.plot(kind = 'bar', color = ['Blue','Red'])\n",
        "plt.legend(['India Targets','Iraq Targets'])\n",
        "plt.xlabel('Targets')\n",
        "plt.ylabel('Times Attacked')"
      ],
      "metadata": {
        "colab": {
          "base_uri": "https://localhost:8080/",
          "height": 721
        },
        "id": "-v9aZcNDjdom",
        "outputId": "b2498f2c-9b6d-4be3-a6b4-0cd5115e6372"
      },
      "execution_count": 149,
      "outputs": [
        {
          "output_type": "execute_result",
          "data": {
            "text/plain": [
              "Text(0, 0.5, 'Times Attacked')"
            ]
          },
          "metadata": {},
          "execution_count": 149
        },
        {
          "output_type": "display_data",
          "data": {
            "text/plain": [
              "<Figure size 1440x360 with 1 Axes>"
            ],
            "image/png": "[encoded data removed]"
          },
          "metadata": {
            "needs_background": "light"
          }
        }
      ]
    },
    {
      "cell_type": "markdown",
      "source": [
        "**The main diffrence between India and Iraq is -**\n",
        "\n",
        "**In India, Maoists groups target various groups of societies**\n",
        "\n",
        "**In Iraq, Terrorist organisations target groups of various societies**"
      ],
      "metadata": {
        "id": "OVBk57yjm50o"
      }
    },
    {
      "cell_type": "code",
      "source": [
        ""
      ],
      "metadata": {
        "id": "E4ZaqNYbqo52"
      },
      "execution_count": null,
      "outputs": []
    }
  ]
}